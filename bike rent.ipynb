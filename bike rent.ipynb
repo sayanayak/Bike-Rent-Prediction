{
 "cells": [
  {
   "cell_type": "markdown",
   "metadata": {},
   "source": [
    "Data description¶\n",
    "The business meaning of each column in the data is as below\n",
    "\n",
    "season: The current season (1:winter, 2:spring, 3:summer, 4:fall)\n",
    "\n",
    "yr: year (0: 2011, 1:2012)\n",
    "\n",
    "mnth: month ( 1 to 12)\n",
    "\n",
    "hr: hour of the day (0 to 23)\n",
    "\n",
    "holiday: weather day is holiday or not\n",
    "\n",
    "weekday: day of the week\n",
    "\n",
    "workingday: if day is neither weekend nor holiday is 1, otherwise is 0\n",
    "\n",
    "weathersit: The Weather forecast for the day\n",
    "\n",
    "1: Clear, Few clouds, Partly cloudy, Partly cloudy\n",
    "\n",
    "2: Mist + Cloudy, Mist + Broken clouds, Mist + Few clouds, Mist\n",
    "\n",
    "3: Light Snow, Light Rain + Thunderstorm + Scattered clouds, Light Rain + Scattered clouds\n",
    "\n",
    "4: Heavy Rain + Ice Pallets + Thunderstorm + Mist, Snow + Fog\n",
    "\n",
    "temp: Normalized temperature in Celsius.\n",
    "\n",
    "atemp: Normalized feeling temperature in Celsius.\n",
    "\n",
    "hum: Normalized humidity. The values are divided to 100 (max)\n",
    "\n",
    "windspeed: Normalized wind speed. The values are divided to 67 (max)\n",
    "\n",
    "casual: count of casual users\n",
    "\n",
    "registered: count of registered users\n",
    "\n",
    "cnt: count of total rental bikes including both casual and registered\n"
   ]
  },
  {
   "cell_type": "code",
   "execution_count": 43,
   "metadata": {},
   "outputs": [],
   "source": [
    "# Supressing the warning messages\n",
    "import warnings\n",
    "warnings.filterwarnings('ignore')"
   ]
  },
  {
   "cell_type": "code",
   "execution_count": 44,
   "metadata": {
    "scrolled": false
   },
   "outputs": [
    {
     "name": "stdout",
     "output_type": "stream",
     "text": [
      "Shape before deleting duplicate values: (17379, 14)\n",
      "Shape After deleting duplicate values: (17377, 14)\n"
     ]
    },
    {
     "data": {
      "text/html": [
       "<div>\n",
       "<style scoped>\n",
       "    .dataframe tbody tr th:only-of-type {\n",
       "        vertical-align: middle;\n",
       "    }\n",
       "\n",
       "    .dataframe tbody tr th {\n",
       "        vertical-align: top;\n",
       "    }\n",
       "\n",
       "    .dataframe thead th {\n",
       "        text-align: right;\n",
       "    }\n",
       "</style>\n",
       "<table border=\"1\" class=\"dataframe\">\n",
       "  <thead>\n",
       "    <tr style=\"text-align: right;\">\n",
       "      <th></th>\n",
       "      <th>season</th>\n",
       "      <th>yr</th>\n",
       "      <th>mnth</th>\n",
       "      <th>hr</th>\n",
       "      <th>holiday</th>\n",
       "      <th>weekday</th>\n",
       "      <th>workingday</th>\n",
       "      <th>weathersit</th>\n",
       "      <th>temp</th>\n",
       "      <th>atemp</th>\n",
       "      <th>hum</th>\n",
       "      <th>windspeed</th>\n",
       "      <th>registered</th>\n",
       "      <th>cnt</th>\n",
       "    </tr>\n",
       "  </thead>\n",
       "  <tbody>\n",
       "    <tr>\n",
       "      <th>0</th>\n",
       "      <td>1</td>\n",
       "      <td>0</td>\n",
       "      <td>1</td>\n",
       "      <td>0</td>\n",
       "      <td>0</td>\n",
       "      <td>6</td>\n",
       "      <td>0</td>\n",
       "      <td>1</td>\n",
       "      <td>0.24</td>\n",
       "      <td>0.2879</td>\n",
       "      <td>0.81</td>\n",
       "      <td>0.0000</td>\n",
       "      <td>13</td>\n",
       "      <td>16</td>\n",
       "    </tr>\n",
       "    <tr>\n",
       "      <th>1</th>\n",
       "      <td>1</td>\n",
       "      <td>0</td>\n",
       "      <td>1</td>\n",
       "      <td>1</td>\n",
       "      <td>0</td>\n",
       "      <td>6</td>\n",
       "      <td>0</td>\n",
       "      <td>1</td>\n",
       "      <td>0.22</td>\n",
       "      <td>0.2727</td>\n",
       "      <td>0.80</td>\n",
       "      <td>0.0000</td>\n",
       "      <td>32</td>\n",
       "      <td>40</td>\n",
       "    </tr>\n",
       "    <tr>\n",
       "      <th>2</th>\n",
       "      <td>1</td>\n",
       "      <td>0</td>\n",
       "      <td>1</td>\n",
       "      <td>2</td>\n",
       "      <td>0</td>\n",
       "      <td>6</td>\n",
       "      <td>0</td>\n",
       "      <td>1</td>\n",
       "      <td>0.22</td>\n",
       "      <td>0.2727</td>\n",
       "      <td>0.80</td>\n",
       "      <td>0.0000</td>\n",
       "      <td>27</td>\n",
       "      <td>32</td>\n",
       "    </tr>\n",
       "    <tr>\n",
       "      <th>3</th>\n",
       "      <td>1</td>\n",
       "      <td>0</td>\n",
       "      <td>1</td>\n",
       "      <td>3</td>\n",
       "      <td>0</td>\n",
       "      <td>6</td>\n",
       "      <td>0</td>\n",
       "      <td>1</td>\n",
       "      <td>0.24</td>\n",
       "      <td>0.2879</td>\n",
       "      <td>0.75</td>\n",
       "      <td>0.0000</td>\n",
       "      <td>10</td>\n",
       "      <td>13</td>\n",
       "    </tr>\n",
       "    <tr>\n",
       "      <th>4</th>\n",
       "      <td>1</td>\n",
       "      <td>0</td>\n",
       "      <td>1</td>\n",
       "      <td>4</td>\n",
       "      <td>0</td>\n",
       "      <td>6</td>\n",
       "      <td>0</td>\n",
       "      <td>1</td>\n",
       "      <td>0.24</td>\n",
       "      <td>0.2879</td>\n",
       "      <td>0.75</td>\n",
       "      <td>0.0000</td>\n",
       "      <td>1</td>\n",
       "      <td>1</td>\n",
       "    </tr>\n",
       "    <tr>\n",
       "      <th>5</th>\n",
       "      <td>1</td>\n",
       "      <td>0</td>\n",
       "      <td>1</td>\n",
       "      <td>5</td>\n",
       "      <td>0</td>\n",
       "      <td>6</td>\n",
       "      <td>0</td>\n",
       "      <td>2</td>\n",
       "      <td>0.24</td>\n",
       "      <td>0.2576</td>\n",
       "      <td>0.75</td>\n",
       "      <td>0.0896</td>\n",
       "      <td>1</td>\n",
       "      <td>1</td>\n",
       "    </tr>\n",
       "    <tr>\n",
       "      <th>6</th>\n",
       "      <td>1</td>\n",
       "      <td>0</td>\n",
       "      <td>1</td>\n",
       "      <td>6</td>\n",
       "      <td>0</td>\n",
       "      <td>6</td>\n",
       "      <td>0</td>\n",
       "      <td>1</td>\n",
       "      <td>0.22</td>\n",
       "      <td>0.2727</td>\n",
       "      <td>0.80</td>\n",
       "      <td>0.0000</td>\n",
       "      <td>0</td>\n",
       "      <td>2</td>\n",
       "    </tr>\n",
       "    <tr>\n",
       "      <th>7</th>\n",
       "      <td>1</td>\n",
       "      <td>0</td>\n",
       "      <td>1</td>\n",
       "      <td>7</td>\n",
       "      <td>0</td>\n",
       "      <td>6</td>\n",
       "      <td>0</td>\n",
       "      <td>1</td>\n",
       "      <td>0.20</td>\n",
       "      <td>0.2576</td>\n",
       "      <td>0.86</td>\n",
       "      <td>0.0000</td>\n",
       "      <td>2</td>\n",
       "      <td>3</td>\n",
       "    </tr>\n",
       "    <tr>\n",
       "      <th>8</th>\n",
       "      <td>1</td>\n",
       "      <td>0</td>\n",
       "      <td>1</td>\n",
       "      <td>8</td>\n",
       "      <td>0</td>\n",
       "      <td>6</td>\n",
       "      <td>0</td>\n",
       "      <td>1</td>\n",
       "      <td>0.24</td>\n",
       "      <td>0.2879</td>\n",
       "      <td>0.75</td>\n",
       "      <td>0.0000</td>\n",
       "      <td>7</td>\n",
       "      <td>8</td>\n",
       "    </tr>\n",
       "    <tr>\n",
       "      <th>9</th>\n",
       "      <td>1</td>\n",
       "      <td>0</td>\n",
       "      <td>1</td>\n",
       "      <td>9</td>\n",
       "      <td>0</td>\n",
       "      <td>6</td>\n",
       "      <td>0</td>\n",
       "      <td>1</td>\n",
       "      <td>0.32</td>\n",
       "      <td>0.3485</td>\n",
       "      <td>0.76</td>\n",
       "      <td>0.0000</td>\n",
       "      <td>6</td>\n",
       "      <td>14</td>\n",
       "    </tr>\n",
       "  </tbody>\n",
       "</table>\n",
       "</div>"
      ],
      "text/plain": [
       "   season  yr  mnth  hr  holiday  weekday  workingday  weathersit  temp  \\\n",
       "0       1   0     1   0        0        6           0           1  0.24   \n",
       "1       1   0     1   1        0        6           0           1  0.22   \n",
       "2       1   0     1   2        0        6           0           1  0.22   \n",
       "3       1   0     1   3        0        6           0           1  0.24   \n",
       "4       1   0     1   4        0        6           0           1  0.24   \n",
       "5       1   0     1   5        0        6           0           2  0.24   \n",
       "6       1   0     1   6        0        6           0           1  0.22   \n",
       "7       1   0     1   7        0        6           0           1  0.20   \n",
       "8       1   0     1   8        0        6           0           1  0.24   \n",
       "9       1   0     1   9        0        6           0           1  0.32   \n",
       "\n",
       "    atemp   hum  windspeed  registered  cnt  \n",
       "0  0.2879  0.81     0.0000          13   16  \n",
       "1  0.2727  0.80     0.0000          32   40  \n",
       "2  0.2727  0.80     0.0000          27   32  \n",
       "3  0.2879  0.75     0.0000          10   13  \n",
       "4  0.2879  0.75     0.0000           1    1  \n",
       "5  0.2576  0.75     0.0896           1    1  \n",
       "6  0.2727  0.80     0.0000           0    2  \n",
       "7  0.2576  0.86     0.0000           2    3  \n",
       "8  0.2879  0.75     0.0000           7    8  \n",
       "9  0.3485  0.76     0.0000           6   14  "
      ]
     },
     "execution_count": 44,
     "metadata": {},
     "output_type": "execute_result"
    }
   ],
   "source": [
    "# Reading the dataset\n",
    "import pandas as pd\n",
    "import numpy as np\n",
    "BikeRentData=pd.read_csv(r'C:\\Users\\SAYAN\\Desktop\\Python Datasets\\Regression Datasets\\BikeRentData.csv', encoding='latin')\n",
    "print('Shape before deleting duplicate values:',BikeRentData.shape)\n",
    "\n",
    "# Removing duplicate rows if any\n",
    "BikeRentData=BikeRentData.drop_duplicates()\n",
    "print('Shape After deleting duplicate values:', BikeRentData.shape)\n",
    "\n",
    "# Printing sample data\n",
    "# Start observing the Quantitative/Categorical/Qualitative variables\n",
    "BikeRentData.head(10)"
   ]
  },
  {
   "cell_type": "markdown",
   "metadata": {},
   "source": [
    "# Looking at the distribution of Target variable"
   ]
  },
  {
   "cell_type": "code",
   "execution_count": 45,
   "metadata": {},
   "outputs": [
    {
     "data": {
      "text/plain": [
       "<AxesSubplot:>"
      ]
     },
     "execution_count": 45,
     "metadata": {},
     "output_type": "execute_result"
    },
    {
     "data": {
      "image/png": "[encoded data removed]",
      "text/plain": [
       "<Figure size 432x288 with 1 Axes>"
      ]
     },
     "metadata": {
      "needs_background": "light"
     },
     "output_type": "display_data"
    }
   ],
   "source": [
    "%matplotlib inline\n",
    "# Creating Bar chart as the Target variable is Continuous\n",
    "BikeRentData['cnt'].hist()"
   ]
  },
  {
   "cell_type": "markdown",
   "metadata": {},
   "source": [
    "# Basic Data Exploration"
   ]
  },
  {
   "cell_type": "code",
   "execution_count": 46,
   "metadata": {
    "scrolled": false
   },
   "outputs": [
    {
     "data": {
      "text/html": [
       "<div>\n",
       "<style scoped>\n",
       "    .dataframe tbody tr th:only-of-type {\n",
       "        vertical-align: middle;\n",
       "    }\n",
       "\n",
       "    .dataframe tbody tr th {\n",
       "        vertical-align: top;\n",
       "    }\n",
       "\n",
       "    .dataframe thead th {\n",
       "        text-align: right;\n",
       "    }\n",
       "</style>\n",
       "<table border=\"1\" class=\"dataframe\">\n",
       "  <thead>\n",
       "    <tr style=\"text-align: right;\">\n",
       "      <th></th>\n",
       "      <th>season</th>\n",
       "      <th>yr</th>\n",
       "      <th>mnth</th>\n",
       "      <th>hr</th>\n",
       "      <th>holiday</th>\n",
       "      <th>weekday</th>\n",
       "      <th>workingday</th>\n",
       "      <th>weathersit</th>\n",
       "      <th>temp</th>\n",
       "      <th>atemp</th>\n",
       "      <th>hum</th>\n",
       "      <th>windspeed</th>\n",
       "      <th>registered</th>\n",
       "      <th>cnt</th>\n",
       "    </tr>\n",
       "  </thead>\n",
       "  <tbody>\n",
       "    <tr>\n",
       "      <th>0</th>\n",
       "      <td>1</td>\n",
       "      <td>0</td>\n",
       "      <td>1</td>\n",
       "      <td>0</td>\n",
       "      <td>0</td>\n",
       "      <td>6</td>\n",
       "      <td>0</td>\n",
       "      <td>1</td>\n",
       "      <td>0.24</td>\n",
       "      <td>0.2879</td>\n",
       "      <td>0.81</td>\n",
       "      <td>0.0</td>\n",
       "      <td>13</td>\n",
       "      <td>16</td>\n",
       "    </tr>\n",
       "    <tr>\n",
       "      <th>1</th>\n",
       "      <td>1</td>\n",
       "      <td>0</td>\n",
       "      <td>1</td>\n",
       "      <td>1</td>\n",
       "      <td>0</td>\n",
       "      <td>6</td>\n",
       "      <td>0</td>\n",
       "      <td>1</td>\n",
       "      <td>0.22</td>\n",
       "      <td>0.2727</td>\n",
       "      <td>0.80</td>\n",
       "      <td>0.0</td>\n",
       "      <td>32</td>\n",
       "      <td>40</td>\n",
       "    </tr>\n",
       "    <tr>\n",
       "      <th>2</th>\n",
       "      <td>1</td>\n",
       "      <td>0</td>\n",
       "      <td>1</td>\n",
       "      <td>2</td>\n",
       "      <td>0</td>\n",
       "      <td>6</td>\n",
       "      <td>0</td>\n",
       "      <td>1</td>\n",
       "      <td>0.22</td>\n",
       "      <td>0.2727</td>\n",
       "      <td>0.80</td>\n",
       "      <td>0.0</td>\n",
       "      <td>27</td>\n",
       "      <td>32</td>\n",
       "    </tr>\n",
       "    <tr>\n",
       "      <th>3</th>\n",
       "      <td>1</td>\n",
       "      <td>0</td>\n",
       "      <td>1</td>\n",
       "      <td>3</td>\n",
       "      <td>0</td>\n",
       "      <td>6</td>\n",
       "      <td>0</td>\n",
       "      <td>1</td>\n",
       "      <td>0.24</td>\n",
       "      <td>0.2879</td>\n",
       "      <td>0.75</td>\n",
       "      <td>0.0</td>\n",
       "      <td>10</td>\n",
       "      <td>13</td>\n",
       "    </tr>\n",
       "    <tr>\n",
       "      <th>4</th>\n",
       "      <td>1</td>\n",
       "      <td>0</td>\n",
       "      <td>1</td>\n",
       "      <td>4</td>\n",
       "      <td>0</td>\n",
       "      <td>6</td>\n",
       "      <td>0</td>\n",
       "      <td>1</td>\n",
       "      <td>0.24</td>\n",
       "      <td>0.2879</td>\n",
       "      <td>0.75</td>\n",
       "      <td>0.0</td>\n",
       "      <td>1</td>\n",
       "      <td>1</td>\n",
       "    </tr>\n",
       "  </tbody>\n",
       "</table>\n",
       "</div>"
      ],
      "text/plain": [
       "   season  yr  mnth  hr  holiday  weekday  workingday  weathersit  temp  \\\n",
       "0       1   0     1   0        0        6           0           1  0.24   \n",
       "1       1   0     1   1        0        6           0           1  0.22   \n",
       "2       1   0     1   2        0        6           0           1  0.22   \n",
       "3       1   0     1   3        0        6           0           1  0.24   \n",
       "4       1   0     1   4        0        6           0           1  0.24   \n",
       "\n",
       "    atemp   hum  windspeed  registered  cnt  \n",
       "0  0.2879  0.81        0.0          13   16  \n",
       "1  0.2727  0.80        0.0          32   40  \n",
       "2  0.2727  0.80        0.0          27   32  \n",
       "3  0.2879  0.75        0.0          10   13  \n",
       "4  0.2879  0.75        0.0           1    1  "
      ]
     },
     "execution_count": 46,
     "metadata": {},
     "output_type": "execute_result"
    }
   ],
   "source": [
    "# Looking at sample rows in the data\n",
    "BikeRentData.head()"
   ]
  },
  {
   "cell_type": "code",
   "execution_count": 47,
   "metadata": {
    "scrolled": false
   },
   "outputs": [
    {
     "name": "stdout",
     "output_type": "stream",
     "text": [
      "<class 'pandas.core.frame.DataFrame'>\n",
      "Int64Index: 17377 entries, 0 to 17378\n",
      "Data columns (total 14 columns):\n",
      " #   Column      Non-Null Count  Dtype  \n",
      "---  ------      --------------  -----  \n",
      " 0   season      17377 non-null  int64  \n",
      " 1   yr          17377 non-null  int64  \n",
      " 2   mnth        17377 non-null  int64  \n",
      " 3   hr          17377 non-null  int64  \n",
      " 4   holiday     17377 non-null  int64  \n",
      " 5   weekday     17377 non-null  int64  \n",
      " 6   workingday  17377 non-null  int64  \n",
      " 7   weathersit  17377 non-null  int64  \n",
      " 8   temp        17377 non-null  float64\n",
      " 9   atemp       17377 non-null  float64\n",
      " 10  hum         17377 non-null  float64\n",
      " 11  windspeed   17377 non-null  float64\n",
      " 12  registered  17377 non-null  int64  \n",
      " 13  cnt         17377 non-null  int64  \n",
      "dtypes: float64(4), int64(10)\n",
      "memory usage: 2.0 MB\n"
     ]
    }
   ],
   "source": [
    "# Observing the summarized information of data\n",
    "# Data types, Missing values based on number of non-null values Vs total rows etc.\n",
    "# Remove those variables from data which have too many missing values (Missing Values > 30%)\n",
    "# Remove Qualitative variables which cannot be used in Machine Learning\n",
    "BikeRentData.info()"
   ]
  },
  {
   "cell_type": "code",
   "execution_count": 48,
   "metadata": {},
   "outputs": [
    {
     "data": {
      "text/html": [
       "<div>\n",
       "<style scoped>\n",
       "    .dataframe tbody tr th:only-of-type {\n",
       "        vertical-align: middle;\n",
       "    }\n",
       "\n",
       "    .dataframe tbody tr th {\n",
       "        vertical-align: top;\n",
       "    }\n",
       "\n",
       "    .dataframe thead th {\n",
       "        text-align: right;\n",
       "    }\n",
       "</style>\n",
       "<table border=\"1\" class=\"dataframe\">\n",
       "  <thead>\n",
       "    <tr style=\"text-align: right;\">\n",
       "      <th></th>\n",
       "      <th>season</th>\n",
       "      <th>yr</th>\n",
       "      <th>mnth</th>\n",
       "      <th>hr</th>\n",
       "      <th>holiday</th>\n",
       "      <th>weekday</th>\n",
       "      <th>workingday</th>\n",
       "      <th>weathersit</th>\n",
       "      <th>temp</th>\n",
       "      <th>atemp</th>\n",
       "      <th>hum</th>\n",
       "      <th>windspeed</th>\n",
       "      <th>registered</th>\n",
       "      <th>cnt</th>\n",
       "    </tr>\n",
       "  </thead>\n",
       "  <tbody>\n",
       "    <tr>\n",
       "      <th>count</th>\n",
       "      <td>17377.000000</td>\n",
       "      <td>17377.000000</td>\n",
       "      <td>17377.000000</td>\n",
       "      <td>17377.000000</td>\n",
       "      <td>17377.000000</td>\n",
       "      <td>17377.000000</td>\n",
       "      <td>17377.000000</td>\n",
       "      <td>17377.000000</td>\n",
       "      <td>17377.000000</td>\n",
       "      <td>17377.000000</td>\n",
       "      <td>17377.000000</td>\n",
       "      <td>17377.000000</td>\n",
       "      <td>17377.000000</td>\n",
       "      <td>17377.000000</td>\n",
       "    </tr>\n",
       "    <tr>\n",
       "      <th>mean</th>\n",
       "      <td>2.501525</td>\n",
       "      <td>0.502561</td>\n",
       "      <td>6.537435</td>\n",
       "      <td>11.547505</td>\n",
       "      <td>0.028774</td>\n",
       "      <td>3.003568</td>\n",
       "      <td>0.682742</td>\n",
       "      <td>1.425332</td>\n",
       "      <td>0.496993</td>\n",
       "      <td>0.475780</td>\n",
       "      <td>0.627216</td>\n",
       "      <td>0.190108</td>\n",
       "      <td>153.803649</td>\n",
       "      <td>189.483916</td>\n",
       "    </tr>\n",
       "    <tr>\n",
       "      <th>std</th>\n",
       "      <td>1.106917</td>\n",
       "      <td>0.500008</td>\n",
       "      <td>3.438722</td>\n",
       "      <td>6.914438</td>\n",
       "      <td>0.167175</td>\n",
       "      <td>2.005744</td>\n",
       "      <td>0.465422</td>\n",
       "      <td>0.639377</td>\n",
       "      <td>0.192553</td>\n",
       "      <td>0.171849</td>\n",
       "      <td>0.192935</td>\n",
       "      <td>0.122343</td>\n",
       "      <td>151.357913</td>\n",
       "      <td>181.387645</td>\n",
       "    </tr>\n",
       "    <tr>\n",
       "      <th>min</th>\n",
       "      <td>1.000000</td>\n",
       "      <td>0.000000</td>\n",
       "      <td>1.000000</td>\n",
       "      <td>0.000000</td>\n",
       "      <td>0.000000</td>\n",
       "      <td>0.000000</td>\n",
       "      <td>0.000000</td>\n",
       "      <td>1.000000</td>\n",
       "      <td>0.020000</td>\n",
       "      <td>0.000000</td>\n",
       "      <td>0.000000</td>\n",
       "      <td>0.000000</td>\n",
       "      <td>0.000000</td>\n",
       "      <td>1.000000</td>\n",
       "    </tr>\n",
       "    <tr>\n",
       "      <th>25%</th>\n",
       "      <td>2.000000</td>\n",
       "      <td>0.000000</td>\n",
       "      <td>4.000000</td>\n",
       "      <td>6.000000</td>\n",
       "      <td>0.000000</td>\n",
       "      <td>1.000000</td>\n",
       "      <td>0.000000</td>\n",
       "      <td>1.000000</td>\n",
       "      <td>0.340000</td>\n",
       "      <td>0.333300</td>\n",
       "      <td>0.480000</td>\n",
       "      <td>0.104500</td>\n",
       "      <td>34.000000</td>\n",
       "      <td>40.000000</td>\n",
       "    </tr>\n",
       "    <tr>\n",
       "      <th>50%</th>\n",
       "      <td>3.000000</td>\n",
       "      <td>1.000000</td>\n",
       "      <td>7.000000</td>\n",
       "      <td>12.000000</td>\n",
       "      <td>0.000000</td>\n",
       "      <td>3.000000</td>\n",
       "      <td>1.000000</td>\n",
       "      <td>1.000000</td>\n",
       "      <td>0.500000</td>\n",
       "      <td>0.484800</td>\n",
       "      <td>0.630000</td>\n",
       "      <td>0.194000</td>\n",
       "      <td>115.000000</td>\n",
       "      <td>142.000000</td>\n",
       "    </tr>\n",
       "    <tr>\n",
       "      <th>75%</th>\n",
       "      <td>3.000000</td>\n",
       "      <td>1.000000</td>\n",
       "      <td>10.000000</td>\n",
       "      <td>18.000000</td>\n",
       "      <td>0.000000</td>\n",
       "      <td>5.000000</td>\n",
       "      <td>1.000000</td>\n",
       "      <td>2.000000</td>\n",
       "      <td>0.660000</td>\n",
       "      <td>0.621200</td>\n",
       "      <td>0.780000</td>\n",
       "      <td>0.253700</td>\n",
       "      <td>220.000000</td>\n",
       "      <td>281.000000</td>\n",
       "    </tr>\n",
       "    <tr>\n",
       "      <th>max</th>\n",
       "      <td>4.000000</td>\n",
       "      <td>1.000000</td>\n",
       "      <td>12.000000</td>\n",
       "      <td>23.000000</td>\n",
       "      <td>1.000000</td>\n",
       "      <td>6.000000</td>\n",
       "      <td>1.000000</td>\n",
       "      <td>4.000000</td>\n",
       "      <td>1.000000</td>\n",
       "      <td>1.000000</td>\n",
       "      <td>1.000000</td>\n",
       "      <td>0.850700</td>\n",
       "      <td>886.000000</td>\n",
       "      <td>977.000000</td>\n",
       "    </tr>\n",
       "  </tbody>\n",
       "</table>\n",
       "</div>"
      ],
      "text/plain": [
       "             season            yr          mnth            hr       holiday  \\\n",
       "count  17377.000000  17377.000000  17377.000000  17377.000000  17377.000000   \n",
       "mean       2.501525      0.502561      6.537435     11.547505      0.028774   \n",
       "std        1.106917      0.500008      3.438722      6.914438      0.167175   \n",
       "min        1.000000      0.000000      1.000000      0.000000      0.000000   \n",
       "25%        2.000000      0.000000      4.000000      6.000000      0.000000   \n",
       "50%        3.000000      1.000000      7.000000     12.000000      0.000000   \n",
       "75%        3.000000      1.000000     10.000000     18.000000      0.000000   \n",
       "max        4.000000      1.000000     12.000000     23.000000      1.000000   \n",
       "\n",
       "            weekday    workingday    weathersit          temp         atemp  \\\n",
       "count  17377.000000  17377.000000  17377.000000  17377.000000  17377.000000   \n",
       "mean       3.003568      0.682742      1.425332      0.496993      0.475780   \n",
       "std        2.005744      0.465422      0.639377      0.192553      0.171849   \n",
       "min        0.000000      0.000000      1.000000      0.020000      0.000000   \n",
       "25%        1.000000      0.000000      1.000000      0.340000      0.333300   \n",
       "50%        3.000000      1.000000      1.000000      0.500000      0.484800   \n",
       "75%        5.000000      1.000000      2.000000      0.660000      0.621200   \n",
       "max        6.000000      1.000000      4.000000      1.000000      1.000000   \n",
       "\n",
       "                hum     windspeed    registered           cnt  \n",
       "count  17377.000000  17377.000000  17377.000000  17377.000000  \n",
       "mean       0.627216      0.190108    153.803649    189.483916  \n",
       "std        0.192935      0.122343    151.357913    181.387645  \n",
       "min        0.000000      0.000000      0.000000      1.000000  \n",
       "25%        0.480000      0.104500     34.000000     40.000000  \n",
       "50%        0.630000      0.194000    115.000000    142.000000  \n",
       "75%        0.780000      0.253700    220.000000    281.000000  \n",
       "max        1.000000      0.850700    886.000000    977.000000  "
      ]
     },
     "execution_count": 48,
     "metadata": {},
     "output_type": "execute_result"
    }
   ],
   "source": [
    "# Looking at the descriptive statistics of the data\n",
    "BikeRentData.describe(include='all')"
   ]
  },
  {
   "cell_type": "code",
   "execution_count": 49,
   "metadata": {},
   "outputs": [
    {
     "data": {
      "text/html": [
       "<div>\n",
       "<style scoped>\n",
       "    .dataframe tbody tr th:only-of-type {\n",
       "        vertical-align: middle;\n",
       "    }\n",
       "\n",
       "    .dataframe tbody tr th {\n",
       "        vertical-align: top;\n",
       "    }\n",
       "\n",
       "    .dataframe thead th {\n",
       "        text-align: right;\n",
       "    }\n",
       "</style>\n",
       "<table border=\"1\" class=\"dataframe\">\n",
       "  <thead>\n",
       "    <tr style=\"text-align: right;\">\n",
       "      <th></th>\n",
       "      <th>season</th>\n",
       "      <th>mnth</th>\n",
       "      <th>hr</th>\n",
       "      <th>holiday</th>\n",
       "      <th>weekday</th>\n",
       "      <th>workingday</th>\n",
       "      <th>weathersit</th>\n",
       "      <th>temp</th>\n",
       "      <th>atemp</th>\n",
       "      <th>hum</th>\n",
       "      <th>windspeed</th>\n",
       "      <th>registered</th>\n",
       "      <th>cnt</th>\n",
       "    </tr>\n",
       "  </thead>\n",
       "  <tbody>\n",
       "    <tr>\n",
       "      <th>0</th>\n",
       "      <td>1</td>\n",
       "      <td>1</td>\n",
       "      <td>0</td>\n",
       "      <td>0</td>\n",
       "      <td>6</td>\n",
       "      <td>0</td>\n",
       "      <td>1</td>\n",
       "      <td>0.24</td>\n",
       "      <td>0.2879</td>\n",
       "      <td>0.81</td>\n",
       "      <td>0.0</td>\n",
       "      <td>13</td>\n",
       "      <td>16</td>\n",
       "    </tr>\n",
       "    <tr>\n",
       "      <th>1</th>\n",
       "      <td>1</td>\n",
       "      <td>1</td>\n",
       "      <td>1</td>\n",
       "      <td>0</td>\n",
       "      <td>6</td>\n",
       "      <td>0</td>\n",
       "      <td>1</td>\n",
       "      <td>0.22</td>\n",
       "      <td>0.2727</td>\n",
       "      <td>0.80</td>\n",
       "      <td>0.0</td>\n",
       "      <td>32</td>\n",
       "      <td>40</td>\n",
       "    </tr>\n",
       "    <tr>\n",
       "      <th>2</th>\n",
       "      <td>1</td>\n",
       "      <td>1</td>\n",
       "      <td>2</td>\n",
       "      <td>0</td>\n",
       "      <td>6</td>\n",
       "      <td>0</td>\n",
       "      <td>1</td>\n",
       "      <td>0.22</td>\n",
       "      <td>0.2727</td>\n",
       "      <td>0.80</td>\n",
       "      <td>0.0</td>\n",
       "      <td>27</td>\n",
       "      <td>32</td>\n",
       "    </tr>\n",
       "    <tr>\n",
       "      <th>3</th>\n",
       "      <td>1</td>\n",
       "      <td>1</td>\n",
       "      <td>3</td>\n",
       "      <td>0</td>\n",
       "      <td>6</td>\n",
       "      <td>0</td>\n",
       "      <td>1</td>\n",
       "      <td>0.24</td>\n",
       "      <td>0.2879</td>\n",
       "      <td>0.75</td>\n",
       "      <td>0.0</td>\n",
       "      <td>10</td>\n",
       "      <td>13</td>\n",
       "    </tr>\n",
       "    <tr>\n",
       "      <th>4</th>\n",
       "      <td>1</td>\n",
       "      <td>1</td>\n",
       "      <td>4</td>\n",
       "      <td>0</td>\n",
       "      <td>6</td>\n",
       "      <td>0</td>\n",
       "      <td>1</td>\n",
       "      <td>0.24</td>\n",
       "      <td>0.2879</td>\n",
       "      <td>0.75</td>\n",
       "      <td>0.0</td>\n",
       "      <td>1</td>\n",
       "      <td>1</td>\n",
       "    </tr>\n",
       "  </tbody>\n",
       "</table>\n",
       "</div>"
      ],
      "text/plain": [
       "   season  mnth  hr  holiday  weekday  workingday  weathersit  temp   atemp  \\\n",
       "0       1     1   0        0        6           0           1  0.24  0.2879   \n",
       "1       1     1   1        0        6           0           1  0.22  0.2727   \n",
       "2       1     1   2        0        6           0           1  0.22  0.2727   \n",
       "3       1     1   3        0        6           0           1  0.24  0.2879   \n",
       "4       1     1   4        0        6           0           1  0.24  0.2879   \n",
       "\n",
       "    hum  windspeed  registered  cnt  \n",
       "0  0.81        0.0          13   16  \n",
       "1  0.80        0.0          32   40  \n",
       "2  0.80        0.0          27   32  \n",
       "3  0.75        0.0          10   13  \n",
       "4  0.75        0.0           1    1  "
      ]
     },
     "execution_count": 49,
     "metadata": {},
     "output_type": "execute_result"
    }
   ],
   "source": [
    "UselessColumns = ['yr',]\n",
    "BikeRentData = BikeRentData.drop(UselessColumns,axis=1)\n",
    "BikeRentData.head()"
   ]
  },
  {
   "cell_type": "code",
   "execution_count": 50,
   "metadata": {},
   "outputs": [
    {
     "data": {
      "text/plain": [
       "season          4\n",
       "mnth           12\n",
       "hr             24\n",
       "holiday         2\n",
       "weekday         7\n",
       "workingday      2\n",
       "weathersit      4\n",
       "temp           50\n",
       "atemp          65\n",
       "hum            89\n",
       "windspeed      30\n",
       "registered    776\n",
       "cnt           869\n",
       "dtype: int64"
      ]
     },
     "execution_count": 50,
     "metadata": {},
     "output_type": "execute_result"
    }
   ],
   "source": [
    "# Finging unique values for each column\n",
    "# TO understand which column is categorical and which one is Continuous\n",
    "# Typically if the numer of unique values are < 20 then the variable is likely to be a category otherwise continuous\n",
    "BikeRentData.nunique()"
   ]
  },
  {
   "cell_type": "markdown",
   "metadata": {},
   "source": [
    "# Visual Exploratory Data Analysis"
   ]
  },
  {
   "cell_type": "code",
   "execution_count": 8,
   "metadata": {
    "scrolled": false
   },
   "outputs": [],
   "source": [
    "# Plotting multiple bar charts at once for categorical variables\n",
    "# Since there is no default function which can plot bar charts for multiple columns at once\n",
    "# we are defining our own function for the same\n",
    "\n",
    "def PlotBarCharts(inpData, colsToPlot):\n",
    "    %matplotlib inline\n",
    "    \n",
    "    import matplotlib.pyplot as plt\n",
    "    \n",
    "    # Generating multiple subplots\n",
    "    fig, subPlot=plt.subplots(nrows=1, ncols=len(colsToPlot), figsize=(20,5))\n",
    "    fig.suptitle('Bar charts of: '+ str(colsToPlot))\n",
    "\n",
    "    for colName, plotNumber in zip(colsToPlot, range(len(colsToPlot))):\n",
    "        inpData.groupby(colName).size().plot(kind='bar',ax=subPlot[plotNumber])"
   ]
  },
  {
   "cell_type": "code",
   "execution_count": 51,
   "metadata": {},
   "outputs": [
    {
     "data": {
      "image/png": "[encoded data removed]",
      "text/plain": [
       "<Figure size 1440x360 with 7 Axes>"
      ]
     },
     "metadata": {
      "needs_background": "light"
     },
     "output_type": "display_data"
    }
   ],
   "source": [
    "#####################################################################\n",
    "# Calling the function\n",
    "PlotBarCharts(inpData=BikeRentData, colsToPlot=['holiday', 'workingday', 'weathersit','hr','season' , 'mnth','weekday'])"
   ]
  },
  {
   "cell_type": "markdown",
   "metadata": {},
   "source": [
    "### Visualize distribution of all the Continuous Predictor variables in the data using histograms\n",
    "Based on the Basic Data Exploration, Three continuous predictor variables 'ApplicantIncome', 'CoapplicantIncome',and 'LoanAmount'."
   ]
  },
  {
   "cell_type": "code",
   "execution_count": 52,
   "metadata": {
    "scrolled": false
   },
   "outputs": [
    {
     "data": {
      "text/plain": [
       "array([[<AxesSubplot:title={'center':'temp'}>,\n",
       "        <AxesSubplot:title={'center':'atemp'}>],\n",
       "       [<AxesSubplot:title={'center':'hum'}>,\n",
       "        <AxesSubplot:title={'center':'windspeed'}>],\n",
       "       [<AxesSubplot:title={'center':'registered'}>, <AxesSubplot:>]],\n",
       "      dtype=object)"
      ]
     },
     "execution_count": 52,
     "metadata": {},
     "output_type": "execute_result"
    },
    {
     "data": {
      "image/png": "[encoded data removed]",
      "text/plain": [
       "<Figure size 1296x720 with 6 Axes>"
      ]
     },
     "metadata": {
      "needs_background": "light"
     },
     "output_type": "display_data"
    }
   ],
   "source": [
    "# Plotting histograms of multiple columns together\n",
    "BikeRentData.hist(['temp','atemp','hum','windspeed','registered'], figsize=(18,10))"
   ]
  },
  {
   "cell_type": "code",
   "execution_count": 53,
   "metadata": {},
   "outputs": [
    {
     "data": {
      "text/plain": [
       "season        0\n",
       "mnth          0\n",
       "hr            0\n",
       "holiday       0\n",
       "weekday       0\n",
       "workingday    0\n",
       "weathersit    0\n",
       "temp          0\n",
       "atemp         0\n",
       "hum           0\n",
       "windspeed     0\n",
       "registered    0\n",
       "cnt           0\n",
       "dtype: int64"
      ]
     },
     "execution_count": 53,
     "metadata": {},
     "output_type": "execute_result"
    }
   ],
   "source": [
    "# Finding how many missing values are there for each column\n",
    "BikeRentData.isnull().sum()"
   ]
  },
  {
   "cell_type": "markdown",
   "metadata": {},
   "source": [
    "# Feature Selection"
   ]
  },
  {
   "cell_type": "code",
   "execution_count": 54,
   "metadata": {},
   "outputs": [
    {
     "data": {
      "image/png": "[encoded data removed]",
      "text/plain": [
       "<Figure size 720x360 with 1 Axes>"
      ]
     },
     "metadata": {
      "needs_background": "light"
     },
     "output_type": "display_data"
    },
    {
     "data": {
      "image/png": "[encoded data removed]",
      "text/plain": [
       "<Figure size 720x360 with 1 Axes>"
      ]
     },
     "metadata": {
      "needs_background": "light"
     },
     "output_type": "display_data"
    },
    {
     "data": {
      "image/png": "[encoded data removed]",
      "text/plain": [
       "<Figure size 720x360 with 1 Axes>"
      ]
     },
     "metadata": {
      "needs_background": "light"
     },
     "output_type": "display_data"
    },
    {
     "data": {
      "image/png": "[encoded data removed]",
      "text/plain": [
       "<Figure size 720x360 with 1 Axes>"
      ]
     },
     "metadata": {
      "needs_background": "light"
     },
     "output_type": "display_data"
    },
    {
     "data": {
      "image/png": "[encoded data removed]",
      "text/plain": [
       "<Figure size 720x360 with 1 Axes>"
      ]
     },
     "metadata": {
      "needs_background": "light"
     },
     "output_type": "display_data"
    }
   ],
   "source": [
    "ContinuousCols=['temp','atemp','hum','windspeed','registered']\n",
    "\n",
    "# Plotting scatter chart for each predictor vs the target variable\n",
    "for predictor in ContinuousCols:\n",
    "    BikeRentData.plot.scatter(x=predictor, y='cnt', figsize=(10,5), title=predictor+\" VS \"+ 'cnt')"
   ]
  },
  {
   "cell_type": "code",
   "execution_count": 55,
   "metadata": {},
   "outputs": [
    {
     "data": {
      "text/html": [
       "<div>\n",
       "<style scoped>\n",
       "    .dataframe tbody tr th:only-of-type {\n",
       "        vertical-align: middle;\n",
       "    }\n",
       "\n",
       "    .dataframe tbody tr th {\n",
       "        vertical-align: top;\n",
       "    }\n",
       "\n",
       "    .dataframe thead th {\n",
       "        text-align: right;\n",
       "    }\n",
       "</style>\n",
       "<table border=\"1\" class=\"dataframe\">\n",
       "  <thead>\n",
       "    <tr style=\"text-align: right;\">\n",
       "      <th></th>\n",
       "      <th>cnt</th>\n",
       "      <th>temp</th>\n",
       "      <th>atemp</th>\n",
       "      <th>hum</th>\n",
       "      <th>windspeed</th>\n",
       "      <th>registered</th>\n",
       "    </tr>\n",
       "  </thead>\n",
       "  <tbody>\n",
       "    <tr>\n",
       "      <th>cnt</th>\n",
       "      <td>1.000000</td>\n",
       "      <td>0.404798</td>\n",
       "      <td>0.400950</td>\n",
       "      <td>-0.322872</td>\n",
       "      <td>0.093155</td>\n",
       "      <td>0.972148</td>\n",
       "    </tr>\n",
       "    <tr>\n",
       "      <th>temp</th>\n",
       "      <td>0.404798</td>\n",
       "      <td>1.000000</td>\n",
       "      <td>0.987671</td>\n",
       "      <td>-0.069931</td>\n",
       "      <td>-0.023141</td>\n",
       "      <td>0.335377</td>\n",
       "    </tr>\n",
       "    <tr>\n",
       "      <th>atemp</th>\n",
       "      <td>0.400950</td>\n",
       "      <td>0.987671</td>\n",
       "      <td>1.000000</td>\n",
       "      <td>-0.051960</td>\n",
       "      <td>-0.062357</td>\n",
       "      <td>0.332571</td>\n",
       "    </tr>\n",
       "    <tr>\n",
       "      <th>hum</th>\n",
       "      <td>-0.322872</td>\n",
       "      <td>-0.069931</td>\n",
       "      <td>-0.051960</td>\n",
       "      <td>1.000000</td>\n",
       "      <td>-0.290070</td>\n",
       "      <td>-0.273891</td>\n",
       "    </tr>\n",
       "    <tr>\n",
       "      <th>windspeed</th>\n",
       "      <td>0.093155</td>\n",
       "      <td>-0.023141</td>\n",
       "      <td>-0.062357</td>\n",
       "      <td>-0.290070</td>\n",
       "      <td>1.000000</td>\n",
       "      <td>0.082244</td>\n",
       "    </tr>\n",
       "    <tr>\n",
       "      <th>registered</th>\n",
       "      <td>0.972148</td>\n",
       "      <td>0.335377</td>\n",
       "      <td>0.332571</td>\n",
       "      <td>-0.273891</td>\n",
       "      <td>0.082244</td>\n",
       "      <td>1.000000</td>\n",
       "    </tr>\n",
       "  </tbody>\n",
       "</table>\n",
       "</div>"
      ],
      "text/plain": [
       "                 cnt      temp     atemp       hum  windspeed  registered\n",
       "cnt         1.000000  0.404798  0.400950 -0.322872   0.093155    0.972148\n",
       "temp        0.404798  1.000000  0.987671 -0.069931  -0.023141    0.335377\n",
       "atemp       0.400950  0.987671  1.000000 -0.051960  -0.062357    0.332571\n",
       "hum        -0.322872 -0.069931 -0.051960  1.000000  -0.290070   -0.273891\n",
       "windspeed   0.093155 -0.023141 -0.062357 -0.290070   1.000000    0.082244\n",
       "registered  0.972148  0.335377  0.332571 -0.273891   0.082244    1.000000"
      ]
     },
     "execution_count": 55,
     "metadata": {},
     "output_type": "execute_result"
    }
   ],
   "source": [
    "# Calculating correlation matrix\n",
    "ContinuousCols=['cnt','temp','atemp','hum','windspeed','registered']\n",
    "\n",
    "# Creating the correlation matrix\n",
    "CorrelationData=BikeRentData[ContinuousCols].corr()\n",
    "CorrelationData"
   ]
  },
  {
   "cell_type": "code",
   "execution_count": 56,
   "metadata": {},
   "outputs": [
    {
     "data": {
      "text/plain": [
       "cnt           1.000000\n",
       "registered    0.972148\n",
       "Name: cnt, dtype: float64"
      ]
     },
     "execution_count": 56,
     "metadata": {},
     "output_type": "execute_result"
    }
   ],
   "source": [
    "# Filtering only those columns where absolute correlation > 0.5 with Target Variable\n",
    "# reduce the 0.5 threshold if no variable is selected\n",
    "CorrelationData['cnt'][abs(CorrelationData['cnt']) > 0.5 ]"
   ]
  },
  {
   "cell_type": "markdown",
   "metadata": {},
   "source": [
    "# Relationship exploration: Categorical Vs Continuous -- Box Plots\n",
    "When the target variable is Continuous and the predictor variable is Categorical we analyze the relation using Boxplots and measure the strength of relation using Anova test"
   ]
  },
  {
   "cell_type": "code",
   "execution_count": 57,
   "metadata": {},
   "outputs": [
    {
     "data": {
      "image/png": "[encoded data removed]",
      "text/plain": [
       "<Figure size 1296x360 with 7 Axes>"
      ]
     },
     "metadata": {
      "needs_background": "light"
     },
     "output_type": "display_data"
    }
   ],
   "source": [
    "# Box plots for Categorical Target Variable \"Price\" and continuous predictors\n",
    "CategoricalColsList=['season', 'mnth', 'hr', 'holiday', 'weekday', 'workingday', 'weathersit']\n",
    "\n",
    "import matplotlib.pyplot as plt\n",
    "fig, PlotCanvas=plt.subplots(nrows=1, ncols=len(CategoricalColsList), figsize=(18,5))\n",
    "\n",
    "# Creating box plots for each continuous predictor against the Target Variable \"Price\"\n",
    "for PredictorCol , i in zip(CategoricalColsList, range(len(CategoricalColsList))):\n",
    "    BikeRentData.boxplot(column='cnt', by=PredictorCol, figsize=(5,5), vert=True, ax=PlotCanvas[i])"
   ]
  },
  {
   "cell_type": "code",
   "execution_count": 58,
   "metadata": {},
   "outputs": [],
   "source": [
    "# Defining a function to find the statistical relationship with all the categorical variables\n",
    "def FunctionAnova(inpData, TargetVariable, CategoricalPredictorList):\n",
    "    from scipy.stats import f_oneway\n",
    "\n",
    "    # Creating an empty list of final selected predictors\n",
    "    SelectedPredictors=[]\n",
    "    \n",
    "    print('##### ANOVA Results ##### \\n')\n",
    "    for predictor in CategoricalPredictorList:\n",
    "        CategoryGroupLists=inpData.groupby(predictor)[TargetVariable].apply(list)\n",
    "        AnovaResults = f_oneway(*CategoryGroupLists)\n",
    "        \n",
    "        # If the ANOVA P-Value is <0.05, that means we reject H0\n",
    "        if (AnovaResults[1] < 0.05):\n",
    "            print(predictor, 'is correlated with', TargetVariable, '| P-Value:', AnovaResults[1])\n",
    "            SelectedPredictors.append(predictor)\n",
    "        else:\n",
    "            print(predictor, 'is NOT correlated with', TargetVariable, '| P-Value:', AnovaResults[1])\n",
    "    \n",
    "    return(SelectedPredictors)"
   ]
  },
  {
   "cell_type": "code",
   "execution_count": 59,
   "metadata": {},
   "outputs": [
    {
     "name": "stdout",
     "output_type": "stream",
     "text": [
      "##### ANOVA Results ##### \n",
      "\n",
      "season is correlated with cnt | P-Value: 5.106220835895279e-257\n",
      "mnth is correlated with cnt | P-Value: 5.2484657372432516e-284\n",
      "hr is correlated with cnt | P-Value: 0.0\n",
      "holiday is correlated with cnt | P-Value: 4.495359698010671e-05\n",
      "weekday is correlated with cnt | P-Value: 0.0018766923121991564\n",
      "workingday is correlated with cnt | P-Value: 6.675147740900618e-05\n",
      "weathersit is correlated with cnt | P-Value: 1.4485803474430875e-81\n"
     ]
    },
    {
     "data": {
      "text/plain": [
       "['season', 'mnth', 'hr', 'holiday', 'weekday', 'workingday', 'weathersit']"
      ]
     },
     "execution_count": 59,
     "metadata": {},
     "output_type": "execute_result"
    }
   ],
   "source": [
    "# Calling the function to check which categorical variables are correlated with target\n",
    "# Calling the function to check which categorical variables are correlated with target\n",
    "CategoricalPredictorList=['season', 'mnth', 'hr', 'holiday', 'weekday', 'workingday', 'weathersit']\n",
    "FunctionAnova(inpData=BikeRentData, \n",
    "              TargetVariable='cnt', \n",
    "              CategoricalPredictorList=CategoricalPredictorList)"
   ]
  },
  {
   "cell_type": "markdown",
   "metadata": {},
   "source": [
    "# Selecting final predictors for Machine Learning\n",
    "Based on the above tests, selecting the final columns for machine learning"
   ]
  },
  {
   "cell_type": "code",
   "execution_count": 60,
   "metadata": {},
   "outputs": [
    {
     "data": {
      "text/html": [
       "<div>\n",
       "<style scoped>\n",
       "    .dataframe tbody tr th:only-of-type {\n",
       "        vertical-align: middle;\n",
       "    }\n",
       "\n",
       "    .dataframe tbody tr th {\n",
       "        vertical-align: top;\n",
       "    }\n",
       "\n",
       "    .dataframe thead th {\n",
       "        text-align: right;\n",
       "    }\n",
       "</style>\n",
       "<table border=\"1\" class=\"dataframe\">\n",
       "  <thead>\n",
       "    <tr style=\"text-align: right;\">\n",
       "      <th></th>\n",
       "      <th>registered</th>\n",
       "      <th>season</th>\n",
       "      <th>mnth</th>\n",
       "      <th>hr</th>\n",
       "      <th>holiday</th>\n",
       "      <th>weekday</th>\n",
       "      <th>workingday</th>\n",
       "      <th>weathersit</th>\n",
       "    </tr>\n",
       "  </thead>\n",
       "  <tbody>\n",
       "    <tr>\n",
       "      <th>0</th>\n",
       "      <td>13</td>\n",
       "      <td>1</td>\n",
       "      <td>1</td>\n",
       "      <td>0</td>\n",
       "      <td>0</td>\n",
       "      <td>6</td>\n",
       "      <td>0</td>\n",
       "      <td>1</td>\n",
       "    </tr>\n",
       "    <tr>\n",
       "      <th>1</th>\n",
       "      <td>32</td>\n",
       "      <td>1</td>\n",
       "      <td>1</td>\n",
       "      <td>1</td>\n",
       "      <td>0</td>\n",
       "      <td>6</td>\n",
       "      <td>0</td>\n",
       "      <td>1</td>\n",
       "    </tr>\n",
       "    <tr>\n",
       "      <th>2</th>\n",
       "      <td>27</td>\n",
       "      <td>1</td>\n",
       "      <td>1</td>\n",
       "      <td>2</td>\n",
       "      <td>0</td>\n",
       "      <td>6</td>\n",
       "      <td>0</td>\n",
       "      <td>1</td>\n",
       "    </tr>\n",
       "    <tr>\n",
       "      <th>3</th>\n",
       "      <td>10</td>\n",
       "      <td>1</td>\n",
       "      <td>1</td>\n",
       "      <td>3</td>\n",
       "      <td>0</td>\n",
       "      <td>6</td>\n",
       "      <td>0</td>\n",
       "      <td>1</td>\n",
       "    </tr>\n",
       "    <tr>\n",
       "      <th>4</th>\n",
       "      <td>1</td>\n",
       "      <td>1</td>\n",
       "      <td>1</td>\n",
       "      <td>4</td>\n",
       "      <td>0</td>\n",
       "      <td>6</td>\n",
       "      <td>0</td>\n",
       "      <td>1</td>\n",
       "    </tr>\n",
       "  </tbody>\n",
       "</table>\n",
       "</div>"
      ],
      "text/plain": [
       "   registered  season  mnth  hr  holiday  weekday  workingday  weathersit\n",
       "0          13       1     1   0        0        6           0           1\n",
       "1          32       1     1   1        0        6           0           1\n",
       "2          27       1     1   2        0        6           0           1\n",
       "3          10       1     1   3        0        6           0           1\n",
       "4           1       1     1   4        0        6           0           1"
      ]
     },
     "execution_count": 60,
     "metadata": {},
     "output_type": "execute_result"
    }
   ],
   "source": [
    "SelectedColumns=['registered','season', 'mnth', 'hr', 'holiday', 'weekday', 'workingday', 'weathersit']\n",
    "\n",
    "# Selecting final columns\n",
    "DataForML=BikeRentData[SelectedColumns]\n",
    "DataForML.head()"
   ]
  },
  {
   "cell_type": "code",
   "execution_count": 61,
   "metadata": {},
   "outputs": [],
   "source": [
    "# Saving this final data for reference during deployment\n",
    "DataForML.to_pickle('DataForML.pkl')"
   ]
  },
  {
   "cell_type": "markdown",
   "metadata": {},
   "source": [
    "## Converting the nominal variable to numeric using get_dummies()"
   ]
  },
  {
   "cell_type": "code",
   "execution_count": 62,
   "metadata": {
    "scrolled": true
   },
   "outputs": [
    {
     "data": {
      "text/html": [
       "<div>\n",
       "<style scoped>\n",
       "    .dataframe tbody tr th:only-of-type {\n",
       "        vertical-align: middle;\n",
       "    }\n",
       "\n",
       "    .dataframe tbody tr th {\n",
       "        vertical-align: top;\n",
       "    }\n",
       "\n",
       "    .dataframe thead th {\n",
       "        text-align: right;\n",
       "    }\n",
       "</style>\n",
       "<table border=\"1\" class=\"dataframe\">\n",
       "  <thead>\n",
       "    <tr style=\"text-align: right;\">\n",
       "      <th></th>\n",
       "      <th>registered</th>\n",
       "      <th>season</th>\n",
       "      <th>mnth</th>\n",
       "      <th>hr</th>\n",
       "      <th>holiday</th>\n",
       "      <th>weekday</th>\n",
       "      <th>workingday</th>\n",
       "      <th>weathersit</th>\n",
       "      <th>cnt</th>\n",
       "    </tr>\n",
       "  </thead>\n",
       "  <tbody>\n",
       "    <tr>\n",
       "      <th>0</th>\n",
       "      <td>13</td>\n",
       "      <td>1</td>\n",
       "      <td>1</td>\n",
       "      <td>0</td>\n",
       "      <td>0</td>\n",
       "      <td>6</td>\n",
       "      <td>0</td>\n",
       "      <td>1</td>\n",
       "      <td>16</td>\n",
       "    </tr>\n",
       "    <tr>\n",
       "      <th>1</th>\n",
       "      <td>32</td>\n",
       "      <td>1</td>\n",
       "      <td>1</td>\n",
       "      <td>1</td>\n",
       "      <td>0</td>\n",
       "      <td>6</td>\n",
       "      <td>0</td>\n",
       "      <td>1</td>\n",
       "      <td>40</td>\n",
       "    </tr>\n",
       "    <tr>\n",
       "      <th>2</th>\n",
       "      <td>27</td>\n",
       "      <td>1</td>\n",
       "      <td>1</td>\n",
       "      <td>2</td>\n",
       "      <td>0</td>\n",
       "      <td>6</td>\n",
       "      <td>0</td>\n",
       "      <td>1</td>\n",
       "      <td>32</td>\n",
       "    </tr>\n",
       "    <tr>\n",
       "      <th>3</th>\n",
       "      <td>10</td>\n",
       "      <td>1</td>\n",
       "      <td>1</td>\n",
       "      <td>3</td>\n",
       "      <td>0</td>\n",
       "      <td>6</td>\n",
       "      <td>0</td>\n",
       "      <td>1</td>\n",
       "      <td>13</td>\n",
       "    </tr>\n",
       "    <tr>\n",
       "      <th>4</th>\n",
       "      <td>1</td>\n",
       "      <td>1</td>\n",
       "      <td>1</td>\n",
       "      <td>4</td>\n",
       "      <td>0</td>\n",
       "      <td>6</td>\n",
       "      <td>0</td>\n",
       "      <td>1</td>\n",
       "      <td>1</td>\n",
       "    </tr>\n",
       "  </tbody>\n",
       "</table>\n",
       "</div>"
      ],
      "text/plain": [
       "   registered  season  mnth  hr  holiday  weekday  workingday  weathersit  cnt\n",
       "0          13       1     1   0        0        6           0           1   16\n",
       "1          32       1     1   1        0        6           0           1   40\n",
       "2          27       1     1   2        0        6           0           1   32\n",
       "3          10       1     1   3        0        6           0           1   13\n",
       "4           1       1     1   4        0        6           0           1    1"
      ]
     },
     "execution_count": 62,
     "metadata": {},
     "output_type": "execute_result"
    }
   ],
   "source": [
    "# Treating all the nominal variables at once using dummy variables\n",
    "DataForML_Numeric=pd.get_dummies(DataForML)\n",
    "\n",
    "# Adding Target Variable to the data\n",
    "DataForML_Numeric['cnt']=BikeRentData['cnt']\n",
    "\n",
    "# Printing sample rows\n",
    "DataForML_Numeric.head()"
   ]
  },
  {
   "cell_type": "markdown",
   "metadata": {},
   "source": [
    "# Machine Learning: Splitting the data into Training and Testing sample\n",
    "We dont use the full data for creating the model. Some data is randomly selected and kept aside for checking how good the model is. This is known as Testing Data and the remaining data is called Training data on which the model is built. Typically 70% of data is used as Training data and the rest 30% is used as Tesing data."
   ]
  },
  {
   "cell_type": "code",
   "execution_count": 63,
   "metadata": {},
   "outputs": [
    {
     "data": {
      "text/plain": [
       "Index(['registered', 'season', 'mnth', 'hr', 'holiday', 'weekday',\n",
       "       'workingday', 'weathersit', 'cnt'],\n",
       "      dtype='object')"
      ]
     },
     "execution_count": 63,
     "metadata": {},
     "output_type": "execute_result"
    }
   ],
   "source": [
    "# Printing all the column names for our reference\n",
    "DataForML_Numeric.columns"
   ]
  },
  {
   "cell_type": "code",
   "execution_count": 64,
   "metadata": {},
   "outputs": [],
   "source": [
    "# Separate Target Variable and Predictor Variables\n",
    "TargetVariable='cnt'\n",
    "Predictors=['registered', 'season', 'mnth', 'hr', 'holiday',\n",
    "       'weekday', 'workingday', 'weathersit']\n",
    "\n",
    "X=DataForML_Numeric[Predictors].values\n",
    "y=DataForML_Numeric[TargetVariable].values\n",
    "\n",
    "# Split the data into training and testing set\n",
    "from sklearn.model_selection import train_test_split\n",
    "X_train, X_test, y_train, y_test = train_test_split(X, y, test_size=0.3, random_state=428)"
   ]
  },
  {
   "cell_type": "markdown",
   "metadata": {},
   "source": [
    "# Standardization/Normalization of data\n",
    "You can choose not to run this step if you want to compare the resultant accuracy of this transformation with the accuracy of raw data. \n",
    "\n",
    "However, if you are using KNN or Neural Networks, then this step becomes necessary."
   ]
  },
  {
   "cell_type": "code",
   "execution_count": 65,
   "metadata": {},
   "outputs": [],
   "source": [
    "### Sandardization of data ###\n",
    "from sklearn.preprocessing import StandardScaler, MinMaxScaler\n",
    "# Choose either standardization or Normalization\n",
    "# On this data Min Max Normalization produced better results\n",
    "\n",
    "# Choose between standardization and MinMAx normalization\n",
    "#PredictorScaler=StandardScaler()\n",
    "PredictorScaler=MinMaxScaler()\n",
    "\n",
    "# Storing the fit object for later reference\n",
    "PredictorScalerFit=PredictorScaler.fit(X)\n",
    "\n",
    "# Generating the standardized values of X\n",
    "X=PredictorScalerFit.transform(X)\n",
    "\n",
    "# Split the data into training and testing set\n",
    "from sklearn.model_selection import train_test_split\n",
    "X_train, X_test, y_train, y_test = train_test_split(X, y, test_size=0.3, random_state=42)"
   ]
  },
  {
   "cell_type": "code",
   "execution_count": 66,
   "metadata": {},
   "outputs": [
    {
     "name": "stdout",
     "output_type": "stream",
     "text": [
      "(12163, 8)\n",
      "(12163,)\n",
      "(5214, 8)\n",
      "(5214,)\n"
     ]
    }
   ],
   "source": [
    "# Sanity check for the sampled data\n",
    "print(X_train.shape)\n",
    "print(y_train.shape)\n",
    "print(X_test.shape)\n",
    "print(y_test.shape)"
   ]
  },
  {
   "cell_type": "markdown",
   "metadata": {},
   "source": [
    "# Multiple Linear Regression"
   ]
  },
  {
   "cell_type": "code",
   "execution_count": 67,
   "metadata": {},
   "outputs": [
    {
     "name": "stdout",
     "output_type": "stream",
     "text": [
      "LinearRegression()\n",
      "R2 Value: 0.956816330876403\n",
      "\n",
      "##### Model Validation and Accuracy Calculations ##########\n",
      "   cnt  Predictedcnt\n",
      "0  333         350.0\n",
      "1  732         758.0\n",
      "2  185         227.0\n",
      "3  526         536.0\n",
      "4   13           1.0\n",
      "Mean Accuracy on test data: 28.75463148673755\n",
      "Median Accuracy on test data: 85.97389248638092\n",
      "\n",
      "Accuracy values for 10-fold Cross Validation:\n",
      " [-74.07929873  26.65796421  59.00921878  49.87501303  14.90766055\n",
      "  13.94538914  48.55944791  69.51846121  69.73312601  39.90684357]\n",
      "\n",
      "Final Average Accuracy of the model: 31.8\n"
     ]
    }
   ],
   "source": [
    "# Multiple Linear Regression\n",
    "from sklearn.linear_model import LinearRegression\n",
    "RegModel = LinearRegression()\n",
    "\n",
    "# Printing all the parameters of Linear regression\n",
    "print(RegModel)\n",
    "\n",
    "# Creating the model on Training Data\n",
    "LREG=RegModel.fit(X_train,y_train)\n",
    "prediction=LREG.predict(X_test)\n",
    "\n",
    "# Taking the standardized values to original scale\n",
    "\n",
    "\n",
    "from sklearn import metrics\n",
    "# Measuring Goodness of fit in Training data\n",
    "print('R2 Value:',metrics.r2_score(y_train, LREG.predict(X_train)))\n",
    "\n",
    "###########################################################################\n",
    "print('\\n##### Model Validation and Accuracy Calculations ##########')\n",
    "\n",
    "# Printing some sample values of prediction\n",
    "TestingDataResults=pd.DataFrame(data=X_test, columns=Predictors)\n",
    "TestingDataResults[TargetVariable]=y_test\n",
    "TestingDataResults[('Predicted'+TargetVariable)]=np.round(prediction)\n",
    "\n",
    "# Printing sample prediction values\n",
    "print(TestingDataResults[[TargetVariable,'Predicted'+TargetVariable]].head())\n",
    "\n",
    "# Calculating the error for each row\n",
    "TestingDataResults['APE']=100 * ((abs(\n",
    "  TestingDataResults['cnt']-TestingDataResults['Predictedcnt']))/TestingDataResults['cnt'])\n",
    "\n",
    "MAPE=np.mean(TestingDataResults['APE'])\n",
    "MedianMAPE=np.median(TestingDataResults['APE'])\n",
    "\n",
    "Accuracy =100 - MAPE\n",
    "MedianAccuracy=100- MedianMAPE\n",
    "print('Mean Accuracy on test data:', Accuracy) # Can be negative sometimes due to outlier\n",
    "print('Median Accuracy on test data:', MedianAccuracy)\n",
    "\n",
    "\n",
    "# Defining a custom function to calculate accuracy\n",
    "# Make sure there are no zeros in the Target variable if you are using MAPE\n",
    "def Accuracy_Score(orig,pred):\n",
    "    MAPE = np.mean(100 * (np.abs(orig-pred)/orig))\n",
    "    #print('#'*70,'Accuracy:', 100-MAPE)\n",
    "    return(100-MAPE)\n",
    "\n",
    "# Custom Scoring MAPE calculation\n",
    "from sklearn.metrics import make_scorer\n",
    "custom_Scoring=make_scorer(Accuracy_Score, greater_is_better=True)\n",
    "\n",
    "# Importing cross validation function from sklearn\n",
    "from sklearn.model_selection import cross_val_score\n",
    "\n",
    "# Running 10-Fold Cross validation on a given algorithm\n",
    "# Passing full data X and y because the K-fold will split the data and automatically choose train/test\n",
    "Accuracy_Values=cross_val_score(RegModel, X , y, cv=10, scoring=custom_Scoring)\n",
    "print('\\nAccuracy values for 10-fold Cross Validation:\\n',Accuracy_Values)\n",
    "print('\\nFinal Average Accuracy of the model:', round(Accuracy_Values.mean(),2))"
   ]
  },
  {
   "cell_type": "code",
   "execution_count": null,
   "metadata": {},
   "outputs": [],
   "source": []
  },
  {
   "cell_type": "markdown",
   "metadata": {},
   "source": [
    "# Decision Trees"
   ]
  },
  {
   "cell_type": "code",
   "execution_count": 69,
   "metadata": {},
   "outputs": [
    {
     "name": "stdout",
     "output_type": "stream",
     "text": [
      "DecisionTreeRegressor(max_depth=8)\n",
      "R2 Value: 0.9860203506963103\n",
      "\n",
      "##### Model Validation and Accuracy Calculations ##########\n",
      "   cnt  Predictedcnt\n",
      "0  333         322.0\n",
      "1  732         731.0\n",
      "2  185         240.0\n",
      "3  526         506.0\n",
      "4   13          10.0\n",
      "Mean Accuracy on test data: 89.28752430840748\n",
      "Median Accuracy on test data: 92.47639653815892\n",
      "\n",
      "Accuracy values for 10-fold Cross Validation:\n",
      " [85.30926586 87.35227442 89.17724362 89.76640121 85.38453019 82.95362201\n",
      " 89.23508764 90.82726904 89.94056792 86.45858154]\n",
      "\n",
      "Final Average Accuracy of the model: 87.64\n"
     ]
    },
    {
     "data": {
      "image/png": "[encoded data removed]",
      "text/plain": [
       "<Figure size 432x288 with 1 Axes>"
      ]
     },
     "metadata": {
      "needs_background": "light"
     },
     "output_type": "display_data"
    }
   ],
   "source": [
    "# Decision Trees (Multiple if-else statements!)\n",
    "from sklearn.tree import DecisionTreeRegressor\n",
    "RegModel = DecisionTreeRegressor(max_depth=8,criterion='mse')\n",
    "# Good Range of Max_depth = 2 to 20\n",
    "\n",
    "# Printing all the parameters of Decision Tree\n",
    "print(RegModel)\n",
    "\n",
    "# Creating the model on Training Data\n",
    "DT=RegModel.fit(X_train,y_train)\n",
    "prediction=DT.predict(X_test)\n",
    "\n",
    "from sklearn import metrics\n",
    "# Measuring Goodness of fit in Training data\n",
    "print('R2 Value:',metrics.r2_score(y_train, DT.predict(X_train)))\n",
    "\n",
    "# Plotting the feature importance for Top 10 most important columns\n",
    "%matplotlib inline\n",
    "feature_importances = pd.Series(DT.feature_importances_, index=Predictors)\n",
    "feature_importances.nlargest(10).plot(kind='barh')\n",
    "\n",
    "###########################################################################\n",
    "print('\\n##### Model Validation and Accuracy Calculations ##########')\n",
    "\n",
    "# Printing some sample values of prediction\n",
    "TestingDataResults=pd.DataFrame(data=X_test, columns=Predictors)\n",
    "TestingDataResults[TargetVariable]=y_test\n",
    "TestingDataResults[('Predicted'+TargetVariable)]=np.round(prediction)\n",
    "\n",
    "# Printing sample prediction values\n",
    "print(TestingDataResults[[TargetVariable,'Predicted'+TargetVariable]].head())\n",
    "\n",
    "# Calculating the error for each row\n",
    "TestingDataResults['APE']=100 * ((abs(\n",
    "  TestingDataResults['cnt']-TestingDataResults['Predictedcnt']))/TestingDataResults['cnt'])\n",
    "\n",
    "MAPE=np.mean(TestingDataResults['APE'])\n",
    "MedianMAPE=np.median(TestingDataResults['APE'])\n",
    "\n",
    "Accuracy =100 - MAPE\n",
    "MedianAccuracy=100- MedianMAPE\n",
    "print('Mean Accuracy on test data:', Accuracy) # Can be negative sometimes due to outlier\n",
    "print('Median Accuracy on test data:', MedianAccuracy)\n",
    "\n",
    "\n",
    "# Defining a custom function to calculate accuracy\n",
    "# Make sure there are no zeros in the Target variable if you are using MAPE\n",
    "def Accuracy_Score(orig,pred):\n",
    "    MAPE = np.mean(100 * (np.abs(orig-pred)/orig))\n",
    "    #print('#'*70,'Accuracy:', 100-MAPE)\n",
    "    return(100-MAPE)\n",
    "\n",
    "# Custom Scoring MAPE calculation\n",
    "from sklearn.metrics import make_scorer\n",
    "custom_Scoring=make_scorer(Accuracy_Score, greater_is_better=True)\n",
    "\n",
    "# Importing cross validation function from sklearn\n",
    "from sklearn.model_selection import cross_val_score\n",
    "\n",
    "# Running 10-Fold Cross validation on a given algorithm\n",
    "# Passing full data X and y because the K-fold will split the data and automatically choose train/test\n",
    "Accuracy_Values=cross_val_score(RegModel, X , y, cv=10, scoring=custom_Scoring)\n",
    "print('\\nAccuracy values for 10-fold Cross Validation:\\n',Accuracy_Values)\n",
    "print('\\nFinal Average Accuracy of the model:', round(Accuracy_Values.mean(),2))"
   ]
  },
  {
   "cell_type": "markdown",
   "metadata": {},
   "source": [
    "# Random Forest"
   ]
  },
  {
   "cell_type": "code",
   "execution_count": 70,
   "metadata": {},
   "outputs": [
    {
     "name": "stdout",
     "output_type": "stream",
     "text": [
      "RandomForestRegressor(max_depth=10)\n",
      "R2 Value: 0.993029181570733\n",
      "\n",
      "##### Model Validation and Accuracy Calculations ##########\n",
      "   cnt  Predictedcnt\n",
      "0  333         342.0\n",
      "1  732         738.0\n",
      "2  185         216.0\n",
      "3  526         517.0\n",
      "4   13          10.0\n",
      "Mean Accuracy on test data: 90.88391633552197\n",
      "Median Accuracy on test data: 94.44444444444444\n",
      "\n",
      "Accuracy values for 10-fold Cross Validation:\n",
      " [87.51044626 88.2845569  90.86799159 91.1719323  87.97722549 84.70223671\n",
      " 89.76217303 92.58324806 92.07018708 88.70673939]\n",
      "\n",
      "Final Average Accuracy of the model: 89.36\n"
     ]
    },
    {
     "data": {
      "image/png": "[encoded data removed]",
      "text/plain": [
       "<Figure size 432x288 with 1 Axes>"
      ]
     },
     "metadata": {
      "needs_background": "light"
     },
     "output_type": "display_data"
    }
   ],
   "source": [
    "# Random Forest (Bagging of multiple Decision Trees)\n",
    "from sklearn.ensemble import RandomForestRegressor\n",
    "RegModel = RandomForestRegressor(max_depth=10, n_estimators=100,criterion='mse')\n",
    "# Good range for max_depth: 2-10 and n_estimators: 100-1000\n",
    "\n",
    "# Printing all the parameters of Random Forest\n",
    "print(RegModel)\n",
    "\n",
    "# Creating the model on Training Data\n",
    "RF=RegModel.fit(X_train,y_train)\n",
    "prediction=RF.predict(X_test)\n",
    "\n",
    "from sklearn import metrics\n",
    "# Measuring Goodness of fit in Training data\n",
    "print('R2 Value:',metrics.r2_score(y_train, RF.predict(X_train)))\n",
    "\n",
    "# Plotting the feature importance for Top 10 most important columns\n",
    "%matplotlib inline\n",
    "feature_importances = pd.Series(RF.feature_importances_, index=Predictors)\n",
    "feature_importances.nlargest(10).plot(kind='barh')\n",
    "\n",
    "###########################################################################\n",
    "print('\\n##### Model Validation and Accuracy Calculations ##########')\n",
    "\n",
    "# Printing some sample values of prediction\n",
    "TestingDataResults=pd.DataFrame(data=X_test, columns=Predictors)\n",
    "TestingDataResults[TargetVariable]=y_test\n",
    "TestingDataResults[('Predicted'+TargetVariable)]=np.round(prediction)\n",
    "\n",
    "# Printing sample prediction values\n",
    "print(TestingDataResults[[TargetVariable,'Predicted'+TargetVariable]].head())\n",
    "\n",
    "# Calculating the error for each row\n",
    "TestingDataResults['APE']=100 * ((abs(\n",
    "  TestingDataResults['cnt']-TestingDataResults['Predictedcnt']))/TestingDataResults['cnt'])\n",
    "\n",
    "MAPE=np.mean(TestingDataResults['APE'])\n",
    "MedianMAPE=np.median(TestingDataResults['APE'])\n",
    "\n",
    "Accuracy =100 - MAPE\n",
    "MedianAccuracy=100- MedianMAPE\n",
    "print('Mean Accuracy on test data:', Accuracy) # Can be negative sometimes due to outlier\n",
    "print('Median Accuracy on test data:', MedianAccuracy)\n",
    "\n",
    "\n",
    "# Defining a custom function to calculate accuracy\n",
    "# Make sure there are no zeros in the Target variable if you are using MAPE\n",
    "def Accuracy_Score(orig,pred):\n",
    "    MAPE = np.mean(100 * (np.abs(orig-pred)/orig))\n",
    "    #print('#'*70,'Accuracy:', 100-MAPE)\n",
    "    return(100-MAPE)\n",
    "\n",
    "# Custom Scoring MAPE calculation\n",
    "from sklearn.metrics import make_scorer\n",
    "custom_Scoring=make_scorer(Accuracy_Score, greater_is_better=True)\n",
    "\n",
    "# Importing cross validation function from sklearn\n",
    "from sklearn.model_selection import cross_val_score\n",
    "\n",
    "# Running 10-Fold Cross validation on a given algorithm\n",
    "# Passing full data X and y because the K-fold will split the data and automatically choose train/test\n",
    "Accuracy_Values=cross_val_score(RegModel, X , y, cv=10, scoring=custom_Scoring)\n",
    "print('\\nAccuracy values for 10-fold Cross Validation:\\n',Accuracy_Values)\n",
    "print('\\nFinal Average Accuracy of the model:', round(Accuracy_Values.mean(),2))"
   ]
  },
  {
   "cell_type": "markdown",
   "metadata": {},
   "source": [
    "# Adaboost"
   ]
  },
  {
   "cell_type": "code",
   "execution_count": 71,
   "metadata": {},
   "outputs": [
    {
     "name": "stdout",
     "output_type": "stream",
     "text": [
      "AdaBoostRegressor(base_estimator=DecisionTreeRegressor(max_depth=10),\n",
      "                  learning_rate=0.04, n_estimators=100)\n",
      "R2 Value: 0.994764553127575\n",
      "\n",
      "##### Model Validation and Accuracy Calculations ##########\n",
      "   cnt  Predictedcnt\n",
      "0  333         340.0\n",
      "1  732         739.0\n",
      "2  185         215.0\n",
      "3  526         513.0\n",
      "4   13          10.0\n",
      "Mean Accuracy on test data: 91.11157490723572\n",
      "Median Accuracy on test data: 94.5945945945946\n",
      "\n",
      "Accuracy values for 10-fold Cross Validation:\n",
      " [88.39810022 88.52689958 90.8693629  91.27654863 88.25668525 84.58280825\n",
      " 90.049714   92.56818163 92.08819363 88.68754184]\n",
      "\n",
      "Final Average Accuracy of the model: 89.53\n"
     ]
    },
    {
     "data": {
      "image/png": "[encoded data removed]",
      "text/plain": [
       "<Figure size 432x288 with 1 Axes>"
      ]
     },
     "metadata": {
      "needs_background": "light"
     },
     "output_type": "display_data"
    }
   ],
   "source": [
    "# Adaboost (Boosting of multiple Decision Trees)\n",
    "from sklearn.ensemble import AdaBoostRegressor\n",
    "from sklearn.tree import DecisionTreeRegressor\n",
    "\n",
    "# Choosing Decision Tree with 1 level as the weak learner\n",
    "DTR=DecisionTreeRegressor(max_depth=10)\n",
    "RegModel = AdaBoostRegressor(n_estimators=100, base_estimator=DTR ,learning_rate=0.04)\n",
    "\n",
    "# Printing all the parameters of Adaboost\n",
    "print(RegModel)\n",
    "\n",
    "# Creating the model on Training Data\n",
    "AB=RegModel.fit(X_train,y_train)\n",
    "prediction=AB.predict(X_test)\n",
    "\n",
    "from sklearn import metrics\n",
    "# Measuring Goodness of fit in Training data\n",
    "print('R2 Value:',metrics.r2_score(y_train, AB.predict(X_train)))\n",
    "\n",
    "# Plotting the feature importance for Top 10 most important columns\n",
    "%matplotlib inline\n",
    "feature_importances = pd.Series(AB.feature_importances_, index=Predictors)\n",
    "feature_importances.nlargest(10).plot(kind='barh')\n",
    "\n",
    "###########################################################################\n",
    "print('\\n##### Model Validation and Accuracy Calculations ##########')\n",
    "\n",
    "# Printing some sample values of prediction\n",
    "TestingDataResults=pd.DataFrame(data=X_test, columns=Predictors)\n",
    "TestingDataResults[TargetVariable]=y_test\n",
    "TestingDataResults[('Predicted'+TargetVariable)]=np.round(prediction)\n",
    "\n",
    "# Printing sample prediction values\n",
    "print(TestingDataResults[[TargetVariable,'Predicted'+TargetVariable]].head())\n",
    "\n",
    "# Calculating the error for each row\n",
    "TestingDataResults['APE']=100 * ((abs(\n",
    "  TestingDataResults['cnt']-TestingDataResults['Predictedcnt']))/TestingDataResults['cnt'])\n",
    "\n",
    "MAPE=np.mean(TestingDataResults['APE'])\n",
    "MedianMAPE=np.median(TestingDataResults['APE'])\n",
    "\n",
    "Accuracy =100 - MAPE\n",
    "MedianAccuracy=100- MedianMAPE\n",
    "print('Mean Accuracy on test data:', Accuracy) # Can be negative sometimes due to outlier\n",
    "print('Median Accuracy on test data:', MedianAccuracy)\n",
    "\n",
    "\n",
    "# Defining a custom function to calculate accuracy\n",
    "# Make sure there are no zeros in the Target variable if you are using MAPE\n",
    "def Accuracy_Score(orig,pred):\n",
    "    MAPE = np.mean(100 * (np.abs(orig-pred)/orig))\n",
    "    #print('#'*70,'Accuracy:', 100-MAPE)\n",
    "    return(100-MAPE)\n",
    "\n",
    "# Custom Scoring MAPE calculation\n",
    "from sklearn.metrics import make_scorer\n",
    "custom_Scoring=make_scorer(Accuracy_Score, greater_is_better=True)\n",
    "\n",
    "# Importing cross validation function from sklearn\n",
    "from sklearn.model_selection import cross_val_score\n",
    "\n",
    "# Running 10-Fold Cross validation on a given algorithm\n",
    "# Passing full data X and y because the K-fold will split the data and automatically choose train/test\n",
    "Accuracy_Values=cross_val_score(RegModel, X , y, cv=10, scoring=custom_Scoring)\n",
    "print('\\nAccuracy values for 10-fold Cross Validation:\\n',Accuracy_Values)\n",
    "print('\\nFinal Average Accuracy of the model:', round(Accuracy_Values.mean(),2))"
   ]
  },
  {
   "cell_type": "markdown",
   "metadata": {},
   "source": [
    "# XGBoost"
   ]
  },
  {
   "cell_type": "code",
   "execution_count": 72,
   "metadata": {},
   "outputs": [
    {
     "name": "stdout",
     "output_type": "stream",
     "text": [
      "XGBRegressor(max_depth=10)\n",
      "[10:50:14] WARNING: src/objective/regression_obj.cu:152: reg:linear is now deprecated in favor of reg:squarederror.\n",
      "R2 Value: 0.9983268783537963\n",
      "\n",
      "##### Model Validation and Accuracy Calculations ##########\n",
      "   cnt  Predictedcnt\n",
      "0  333         341.0\n",
      "1  732         736.0\n",
      "2  185         202.0\n",
      "3  526         511.0\n",
      "4   13           9.0\n",
      "Mean Accuracy on test data: 91.41551457731892\n",
      "Median Accuracy on test data: 95.26550670631741\n",
      "[10:50:20] WARNING: src/objective/regression_obj.cu:152: reg:linear is now deprecated in favor of reg:squarederror.\n",
      "[10:50:23] WARNING: src/objective/regression_obj.cu:152: reg:linear is now deprecated in favor of reg:squarederror.\n",
      "[10:50:26] WARNING: src/objective/regression_obj.cu:152: reg:linear is now deprecated in favor of reg:squarederror.\n",
      "[10:50:29] WARNING: src/objective/regression_obj.cu:152: reg:linear is now deprecated in favor of reg:squarederror.\n",
      "[10:50:32] WARNING: src/objective/regression_obj.cu:152: reg:linear is now deprecated in favor of reg:squarederror.\n",
      "[10:50:35] WARNING: src/objective/regression_obj.cu:152: reg:linear is now deprecated in favor of reg:squarederror.\n",
      "[10:50:39] WARNING: src/objective/regression_obj.cu:152: reg:linear is now deprecated in favor of reg:squarederror.\n",
      "[10:50:42] WARNING: src/objective/regression_obj.cu:152: reg:linear is now deprecated in favor of reg:squarederror.\n",
      "[10:50:46] WARNING: src/objective/regression_obj.cu:152: reg:linear is now deprecated in favor of reg:squarederror.\n",
      "[10:50:50] WARNING: src/objective/regression_obj.cu:152: reg:linear is now deprecated in favor of reg:squarederror.\n",
      "\n",
      "Accuracy values for 10-fold Cross Validation:\n",
      " [88.76439241 88.35992586 91.39535272 91.35042051 90.04357963 87.75191374\n",
      " 89.22839945 92.17235813 92.87989759 91.27349504]\n",
      "\n",
      "Final Average Accuracy of the model: 90.32\n"
     ]
    },
    {
     "data": {
      "image/png": "[encoded data removed]",
      "text/plain": [
       "<Figure size 432x288 with 1 Axes>"
      ]
     },
     "metadata": {
      "needs_background": "light"
     },
     "output_type": "display_data"
    }
   ],
   "source": [
    "# Xtreme Gradient Boosting (XGBoost)\n",
    "from xgboost import XGBRegressor\n",
    "RegModel=XGBRegressor(max_depth=10, \n",
    "                      learning_rate=0.1, \n",
    "                      n_estimators=100, \n",
    "                      objective='reg:linear', \n",
    "                      booster='gbtree')\n",
    "\n",
    "# Printing all the parameters of XGBoost\n",
    "print(RegModel)\n",
    "\n",
    "# Creating the model on Training Data\n",
    "XGB=RegModel.fit(X_train,y_train)\n",
    "prediction=XGB.predict(X_test)\n",
    "\n",
    "from sklearn import metrics\n",
    "# Measuring Goodness of fit in Training data\n",
    "print('R2 Value:',metrics.r2_score(y_train, XGB.predict(X_train)))\n",
    "\n",
    "# Plotting the feature importance for Top 10 most important columns\n",
    "%matplotlib inline\n",
    "feature_importances = pd.Series(XGB.feature_importances_, index=Predictors)\n",
    "feature_importances.nlargest(10).plot(kind='barh')\n",
    "###########################################################################\n",
    "print('\\n##### Model Validation and Accuracy Calculations ##########')\n",
    "\n",
    "# Printing some sample values of prediction\n",
    "TestingDataResults=pd.DataFrame(data=X_test, columns=Predictors)\n",
    "TestingDataResults[TargetVariable]=y_test\n",
    "TestingDataResults[('Predicted'+TargetVariable)]=np.round(prediction)\n",
    "\n",
    "# Printing sample prediction values\n",
    "print(TestingDataResults[[TargetVariable,'Predicted'+TargetVariable]].head())\n",
    "\n",
    "# Calculating the error for each row\n",
    "TestingDataResults['APE']=100 * ((abs(\n",
    "  TestingDataResults['cnt']-TestingDataResults['Predictedcnt']))/TestingDataResults['cnt'])\n",
    "\n",
    "\n",
    "MAPE=np.mean(TestingDataResults['APE'])\n",
    "MedianMAPE=np.median(TestingDataResults['APE'])\n",
    "\n",
    "Accuracy =100 - MAPE\n",
    "MedianAccuracy=100- MedianMAPE\n",
    "print('Mean Accuracy on test data:', Accuracy) # Can be negative sometimes due to outlier\n",
    "print('Median Accuracy on test data:', MedianAccuracy)\n",
    "\n",
    "\n",
    "# Defining a custom function to calculate accuracy\n",
    "# Make sure there are no zeros in the Target variable if you are using MAPE\n",
    "def Accuracy_Score(orig,pred):\n",
    "    MAPE = np.mean(100 * (np.abs(orig-pred)/orig))\n",
    "    #print('#'*70,'Accuracy:', 100-MAPE)\n",
    "    return(100-MAPE)\n",
    "\n",
    "# Custom Scoring MAPE calculation\n",
    "from sklearn.metrics import make_scorer\n",
    "custom_Scoring=make_scorer(Accuracy_Score, greater_is_better=True)\n",
    "\n",
    "# Importing cross validation function from sklearn\n",
    "from sklearn.model_selection import cross_val_score\n",
    "\n",
    "# Running 10-Fold Cross validation on a given algorithm\n",
    "# Passing full data X and y because the K-fold will split the data and automatically choose train/test\n",
    "Accuracy_Values=cross_val_score(RegModel, X , y, cv=10, scoring=custom_Scoring)\n",
    "print('\\nAccuracy values for 10-fold Cross Validation:\\n',Accuracy_Values)\n",
    "print('\\nFinal Average Accuracy of the model:', round(Accuracy_Values.mean(),2))"
   ]
  },
  {
   "cell_type": "markdown",
   "metadata": {},
   "source": [
    "# KNN"
   ]
  },
  {
   "cell_type": "code",
   "execution_count": 73,
   "metadata": {},
   "outputs": [
    {
     "name": "stdout",
     "output_type": "stream",
     "text": [
      "KNeighborsRegressor(n_neighbors=2)\n",
      "R2 Value: 0.9894199219561405\n",
      "\n",
      "##### Model Validation and Accuracy Calculations ##########\n",
      "   cnt  Predictedcnt\n",
      "0  333         335.0\n",
      "1  732         751.0\n",
      "2  185         172.0\n",
      "3  526         500.0\n",
      "4   13           9.0\n",
      "Mean Accuracy on test data: 72.53454243673963\n",
      "Median Accuracy on test data: 87.08286985539488\n",
      "\n",
      "Accuracy values for 10-fold Cross Validation:\n",
      " [-9.46120663 29.68830895 70.35764329 60.97815563 32.85602232 60.50657192\n",
      " 66.50014912 81.49882501 80.73154369 62.83578822]\n",
      "\n",
      "Final Average Accuracy of the model: 53.65\n"
     ]
    }
   ],
   "source": [
    "# K-Nearest Neighbor(KNN)\n",
    "from sklearn.neighbors import KNeighborsRegressor\n",
    "RegModel = KNeighborsRegressor(n_neighbors=2)\n",
    "\n",
    "# Printing all the parameters of KNN\n",
    "print(RegModel)\n",
    "\n",
    "# Creating the model on Training Data\n",
    "KNN=RegModel.fit(X_train,y_train)\n",
    "prediction=KNN.predict(X_test)\n",
    "\n",
    "from sklearn import metrics\n",
    "# Measuring Goodness of fit in Training data\n",
    "print('R2 Value:',metrics.r2_score(y_train, KNN.predict(X_train)))\n",
    "\n",
    "# Plotting the feature importance for Top 10 most important columns\n",
    "# The variable importance chart is not available for KNN\n",
    "\n",
    "###########################################################################\n",
    "print('\\n##### Model Validation and Accuracy Calculations ##########')\n",
    "\n",
    "# Printing some sample values of prediction\n",
    "TestingDataResults=pd.DataFrame(data=X_test, columns=Predictors)\n",
    "TestingDataResults[TargetVariable]=y_test\n",
    "TestingDataResults[('Predicted'+TargetVariable)]=np.round(prediction)\n",
    "\n",
    "# Printing sample prediction values\n",
    "print(TestingDataResults[[TargetVariable,'Predicted'+TargetVariable]].head())\n",
    "\n",
    "# Calculating the error for each row\n",
    "TestingDataResults['APE']=100 * ((abs(\n",
    "  TestingDataResults['cnt']-TestingDataResults['Predictedcnt']))/TestingDataResults['cnt'])\n",
    "\n",
    "MAPE=np.mean(TestingDataResults['APE'])\n",
    "MedianMAPE=np.median(TestingDataResults['APE'])\n",
    "\n",
    "Accuracy =100 - MAPE\n",
    "MedianAccuracy=100- MedianMAPE\n",
    "print('Mean Accuracy on test data:', Accuracy) # Can be negative sometimes due to outlier\n",
    "print('Median Accuracy on test data:', MedianAccuracy)\n",
    "\n",
    "# Defining a custom function to calculate accuracy\n",
    "# Make sure there are no zeros in the Target variable if you are using MAPE\n",
    "def Accuracy_Score(orig,pred):\n",
    "    MAPE = np.mean(100 * (np.abs(orig-pred)/orig))\n",
    "    #print('#'*70,'Accuracy:', 100-MAPE)\n",
    "    return(100-MAPE)\n",
    "\n",
    "# Custom Scoring MAPE calculation\n",
    "from sklearn.metrics import make_scorer\n",
    "custom_Scoring=make_scorer(Accuracy_Score, greater_is_better=True)\n",
    "\n",
    "# Importing cross validation function from sklearn\n",
    "from sklearn.model_selection import cross_val_score\n",
    "\n",
    "# Running 10-Fold Cross validation on a given algorithm\n",
    "# Passing full data X and y because the K-fold will split the data and automatically choose train/test\n",
    "Accuracy_Values=cross_val_score(RegModel, X , y, cv=10, scoring=custom_Scoring)\n",
    "print('\\nAccuracy values for 10-fold Cross Validation:\\n',Accuracy_Values)\n",
    "print('\\nFinal Average Accuracy of the model:', round(Accuracy_Values.mean(),2))"
   ]
  },
  {
   "cell_type": "markdown",
   "metadata": {},
   "source": [
    "# Deployment of the Model"
   ]
  },
  {
   "cell_type": "markdown",
   "metadata": {},
   "source": [
    "I am choosing XGBOOST as the final model since it is producing the best accuracy on this data."
   ]
  },
  {
   "cell_type": "code",
   "execution_count": 74,
   "metadata": {},
   "outputs": [
    {
     "name": "stdout",
     "output_type": "stream",
     "text": [
      "(17377, 4)\n",
      "(17377,)\n"
     ]
    }
   ],
   "source": [
    "# Separate Target Variable and Predictor Variables\n",
    "TargetVariable='cnt'\n",
    "\n",
    "# Selecting the final set of predictors for the deployment\n",
    "# Based on the variable importance charts of multiple algorithms above\n",
    "Predictors=['registered', 'mnth', 'hr', 'weekday']\n",
    "\n",
    "X=DataForML_Numeric[Predictors].values\n",
    "y=DataForML_Numeric[TargetVariable].values\n",
    "\n",
    "### Sandardization of data ###\n",
    "from sklearn.preprocessing import StandardScaler, MinMaxScaler\n",
    "# Choose either standardization or Normalization\n",
    "# On this data Min Max Normalization produced better results\n",
    "\n",
    "# Choose between standardization and MinMAx normalization\n",
    "#PredictorScaler=StandardScaler()\n",
    "PredictorScaler=MinMaxScaler()\n",
    "\n",
    "# Storing the fit object for later reference\n",
    "PredictorScalerFit=PredictorScaler.fit(X)\n",
    "\n",
    "# Generating the standardized values of X\n",
    "X=PredictorScalerFit.transform(X)\n",
    "\n",
    "print(X.shape)\n",
    "print(y.shape)"
   ]
  },
  {
   "cell_type": "code",
   "execution_count": 75,
   "metadata": {},
   "outputs": [
    {
     "name": "stdout",
     "output_type": "stream",
     "text": [
      "[10:51:51] WARNING: src/objective/regression_obj.cu:152: reg:linear is now deprecated in favor of reg:squarederror.\n",
      "[10:51:53] WARNING: src/objective/regression_obj.cu:152: reg:linear is now deprecated in favor of reg:squarederror.\n",
      "[10:51:55] WARNING: src/objective/regression_obj.cu:152: reg:linear is now deprecated in favor of reg:squarederror.\n",
      "[10:51:57] WARNING: src/objective/regression_obj.cu:152: reg:linear is now deprecated in favor of reg:squarederror.\n",
      "[10:52:00] WARNING: src/objective/regression_obj.cu:152: reg:linear is now deprecated in favor of reg:squarederror.\n",
      "[10:52:02] WARNING: src/objective/regression_obj.cu:152: reg:linear is now deprecated in favor of reg:squarederror.\n",
      "[10:52:05] WARNING: src/objective/regression_obj.cu:152: reg:linear is now deprecated in favor of reg:squarederror.\n",
      "[10:52:08] WARNING: src/objective/regression_obj.cu:152: reg:linear is now deprecated in favor of reg:squarederror.\n",
      "[10:52:11] WARNING: src/objective/regression_obj.cu:152: reg:linear is now deprecated in favor of reg:squarederror.\n",
      "[10:52:14] WARNING: src/objective/regression_obj.cu:152: reg:linear is now deprecated in favor of reg:squarederror.\n",
      "\n",
      "Accuracy values for 10-fold Cross Validation:\n",
      " [89.14417337 88.28680294 91.19889232 90.99350135 89.22423544 88.35464318\n",
      " 88.78635479 91.10386615 92.66013865 91.36920808]\n",
      "\n",
      "Final Average Accuracy of the model: 90.11\n"
     ]
    }
   ],
   "source": [
    "from sklearn.model_selection import cross_val_score\n",
    "\n",
    "# Using final hyperparameters\n",
    "# Xtreme Gradient Boosting (XGBoost)\n",
    "from xgboost import XGBRegressor\n",
    "RegModel=XGBRegressor(max_depth=10, \n",
    "                      learning_rate=0.1, \n",
    "                      n_estimators=100, \n",
    "                      objective='reg:linear', \n",
    "                      booster='gbtree')\n",
    "\n",
    "# Running 10-Fold Cross validation on a given algorithm\n",
    "# Passing full data X and y because the K-fold will split the data and automatically choose train/test\n",
    "Accuracy_Values=cross_val_score(RegModel, X , y, cv=10, scoring=custom_Scoring)\n",
    "print('\\nAccuracy values for 10-fold Cross Validation:\\n',Accuracy_Values)\n",
    "print('\\nFinal Average Accuracy of the model:', round(Accuracy_Values.mean(),2))"
   ]
  },
  {
   "cell_type": "code",
   "execution_count": 76,
   "metadata": {},
   "outputs": [
    {
     "name": "stdout",
     "output_type": "stream",
     "text": [
      "[10:53:16] WARNING: src/objective/regression_obj.cu:152: reg:linear is now deprecated in favor of reg:squarederror.\n"
     ]
    }
   ],
   "source": [
    "# Training the model on 100% Data available\n",
    "Final_XGB_Model=RegModel.fit(X,y)"
   ]
  },
  {
   "cell_type": "code",
   "execution_count": 77,
   "metadata": {},
   "outputs": [
    {
     "name": "stdout",
     "output_type": "stream",
     "text": [
      "pickle file of Predictive Model is saved at Location: C:\\Users\\SAYAN\n"
     ]
    }
   ],
   "source": [
    "import pickle\n",
    "import os\n",
    "\n",
    "# Saving the Python objects as serialized files can be done using pickle library\n",
    "# Here let us save the Final model\n",
    "with open('Final_XGB_Model.pkl', 'wb') as fileWriteStream:\n",
    "    pickle.dump(Final_XGB_Model, fileWriteStream)\n",
    "    # Don't forget to close the filestream!\n",
    "    fileWriteStream.close()\n",
    "    \n",
    "print('pickle file of Predictive Model is saved at Location:',os.getcwd())"
   ]
  },
  {
   "cell_type": "code",
   "execution_count": 78,
   "metadata": {},
   "outputs": [],
   "source": [
    "# This Function can be called from any from any front end tool/website\n",
    "def FunctionPredictResult(InputData):\n",
    "    import pandas as pd\n",
    "    Num_Inputs=InputData.shape[0]\n",
    "    \n",
    "    # Making sure the input data has same columns as it was used for training the model\n",
    "    # Also, if standardization/normalization was done, then same must be done for new input\n",
    "    \n",
    "    # Appending the new data with the Training data\n",
    "    DataForML=pd.read_pickle('DataForML.pkl')\n",
    "    InputData=InputData.append(DataForML)\n",
    "    \n",
    "    # Generating dummy variables for rest of the nominal variables\n",
    "    InputData=pd.get_dummies(InputData)\n",
    "            \n",
    "    # Maintaining the same order of columns as it was during the model training\n",
    "    Predictors=['registered', 'mnth', 'hr', 'weekday']\n",
    "    \n",
    "    # Generating the input values to the model\n",
    "    X=InputData[Predictors].values[0:Num_Inputs]\n",
    "    \n",
    "    # Generating the standardized values of X since it was done while model training also\n",
    "    X=PredictorScalerFit.transform(X)\n",
    "    \n",
    "    # Loading the Function from pickle file\n",
    "    import pickle\n",
    "    with open('Final_XGB_Model.pkl', 'rb') as fileReadStream:\n",
    "        PredictionModel=pickle.load(fileReadStream)\n",
    "        # Don't forget to close the filestream!\n",
    "        fileReadStream.close()\n",
    "            \n",
    "    # Gencnt Predictions\n",
    "    Prediction=PredictionModel.predict(X)\n",
    "    PredictionResult=pd.DataFrame(Prediction, columns=['Prediction'])\n",
    "    return(round(PredictionResult))"
   ]
  },
  {
   "cell_type": "code",
   "execution_count": 79,
   "metadata": {},
   "outputs": [
    {
     "name": "stdout",
     "output_type": "stream",
     "text": [
      "   registered  mnth  hr  weekday\n",
      "0          32     1   1        6\n",
      "1          32     1   1        4\n",
      "[10:53:31] WARNING: src/objective/regression_obj.cu:152: reg:linear is now deprecated in favor of reg:squarederror.\n"
     ]
    },
    {
     "data": {
      "text/html": [
       "<div>\n",
       "<style scoped>\n",
       "    .dataframe tbody tr th:only-of-type {\n",
       "        vertical-align: middle;\n",
       "    }\n",
       "\n",
       "    .dataframe tbody tr th {\n",
       "        vertical-align: top;\n",
       "    }\n",
       "\n",
       "    .dataframe thead th {\n",
       "        text-align: right;\n",
       "    }\n",
       "</style>\n",
       "<table border=\"1\" class=\"dataframe\">\n",
       "  <thead>\n",
       "    <tr style=\"text-align: right;\">\n",
       "      <th></th>\n",
       "      <th>Prediction</th>\n",
       "    </tr>\n",
       "  </thead>\n",
       "  <tbody>\n",
       "    <tr>\n",
       "      <th>0</th>\n",
       "      <td>39.0</td>\n",
       "    </tr>\n",
       "    <tr>\n",
       "      <th>1</th>\n",
       "      <td>39.0</td>\n",
       "    </tr>\n",
       "  </tbody>\n",
       "</table>\n",
       "</div>"
      ],
      "text/plain": [
       "   Prediction\n",
       "0        39.0\n",
       "1        39.0"
      ]
     },
     "execution_count": 79,
     "metadata": {},
     "output_type": "execute_result"
    }
   ],
   "source": [
    "# Calling the function for some loan applications\n",
    "NewSampleData=pd.DataFrame(\n",
    "data=[[32,1,1,6],\n",
    "     [32,1,1,4]],\n",
    "columns=['registered', 'mnth', 'hr', 'weekday'])\n",
    "\n",
    "print(NewSampleData)\n",
    "\n",
    "# Calling the Function for prediction\n",
    "FunctionPredictResult(InputData= NewSampleData)"
   ]
  },
  {
   "cell_type": "markdown",
   "metadata": {},
   "source": [
    "# Function for predictions API\n"
   ]
  },
  {
   "cell_type": "code",
   "execution_count": 80,
   "metadata": {},
   "outputs": [
    {
     "name": "stdout",
     "output_type": "stream",
     "text": [
      "[10:54:05] WARNING: src/objective/regression_obj.cu:152: reg:linear is now deprecated in favor of reg:squarederror.\n"
     ]
    },
    {
     "data": {
      "text/plain": [
       "'{\"Prediction\":{\"0\":39.0}}'"
      ]
     },
     "execution_count": 80,
     "metadata": {},
     "output_type": "execute_result"
    }
   ],
   "source": [
    "def FunctionGeneratePrediction(inp_registered, inp_mnth, inp_hr, inp_weekday):\n",
    "    \n",
    "    # Creating a data frame for the model input\n",
    "    SampleInputData=pd.DataFrame(\n",
    "     data=[[inp_registered, inp_mnth, inp_hr, inp_weekday]],\n",
    "     columns=['registered', 'mnth', 'hr', 'weekday'])\n",
    "\n",
    "    # Calling the function defined above using the input parameters\n",
    "    Predictions=FunctionPredictResult(InputData= SampleInputData)\n",
    "\n",
    "    # Returning the predictions\n",
    "    return(Predictions.to_json())\n",
    "\n",
    "# Function call\n",
    "FunctionGeneratePrediction(  inp_registered=32,\n",
    "                             inp_mnth =1,\n",
    "                             inp_hr=1,\n",
    "                             inp_weekday=6\n",
    "                             )"
   ]
  },
  {
   "cell_type": "markdown",
   "metadata": {},
   "source": [
    "# Creating Flask API"
   ]
  },
  {
   "cell_type": "code",
   "execution_count": 81,
   "metadata": {},
   "outputs": [],
   "source": [
    "from flask import Flask, request, jsonify\n",
    "import pickle\n",
    "import pandas as pd\n",
    "import numpy"
   ]
  },
  {
   "cell_type": "code",
   "execution_count": 82,
   "metadata": {},
   "outputs": [],
   "source": [
    "app = Flask(__name__)\n",
    "\n",
    "@app.route('/prediction_api', methods=[\"GET\"])\n",
    "def prediction_api():\n",
    "    try:\n",
    "        # Getting the paramters from API call\n",
    "        registered_value = float(request.args.get('registered'))\n",
    "        mnth_value=float(request.args.get('mnth'))\n",
    "        hr_value=float(request.args.get('hr'))\n",
    "        weekday_value=float(request.args.get('weekday'))\n",
    "                \n",
    "        # Calling the funtion to get predictions\n",
    "        prediction_from_api=FunctionGeneratePrediction(\n",
    "                                                     inp_registered=registered_value,\n",
    "                                                     inp_mnth =mnth_value,\n",
    "                                                     inp_hr=hr_value,\n",
    "                                                     inp_weekday=weekday_value\n",
    "                                                )\n",
    "\n",
    "        return (prediction_from_api)\n",
    "    \n",
    "    except Exception as e:\n",
    "        return('Something is not right!:'+str(e))"
   ]
  },
  {
   "cell_type": "markdown",
   "metadata": {},
   "source": [
    "# Starting the API engine"
   ]
  },
  {
   "cell_type": "code",
   "execution_count": null,
   "metadata": {},
   "outputs": [],
   "source": [
    "import os\n",
    "if __name__ ==\"__main__\":\n",
    "    \n",
    "    # Hosting the API in localhost\n",
    "    app.run(host='127.0.0.1', port=8080, threaded=True, debug=True, use_reloader=False)\n",
    "    # Interrupt kernel to stop the API"
   ]
  },
  {
   "cell_type": "code",
   "execution_count": null,
   "metadata": {},
   "outputs": [],
   "source": []
  },
  {
   "cell_type": "code",
   "execution_count": null,
   "metadata": {},
   "outputs": [],
   "source": []
  }
 ],
 "metadata": {
  "kernelspec": {
   "display_name": "Python 3",
   "language": "python",
   "name": "python3"
  },
  "language_info": {
   "codemirror_mode": {
    "name": "ipython",
    "version": 3
   },
   "file_extension": ".py",
   "mimetype": "text/x-python",
   "name": "python",
   "nbconvert_exporter": "python",
   "pygments_lexer": "ipython3",
   "version": "3.7.6"
  }
 },
 "nbformat": 4,
 "nbformat_minor": 1
}
